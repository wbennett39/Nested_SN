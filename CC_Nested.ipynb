{
 "cells": [
  {
   "cell_type": "code",
   "execution_count": 116,
   "metadata": {},
   "outputs": [],
   "source": [
    "import scipy.special\n",
    "import math\n",
    "import matplotlib.pyplot as plt\n",
    "from scipy.interpolate import interp1d\n",
    "from chaospy.quadrature import clenshaw_curtis\n"
   ]
  },
  {
   "cell_type": "code",
   "execution_count": 118,
   "metadata": {},
   "outputs": [
    {
     "data": {
      "text/plain": [
       "(array([[-1.        , -0.93969262, -0.76604444, -0.5       , -0.17364818,\n",
       "          0.17364818,  0.5       ,  0.76604444,  0.93969262,  1.        ]]),\n",
       " array([0.01234568, 0.11656746, 0.22528432, 0.30194004, 0.34386251,\n",
       "        0.34386251, 0.30194004, 0.22528432, 0.11656746, 0.01234568]))"
      ]
     },
     "execution_count": 118,
     "metadata": {},
     "output_type": "execute_result"
    }
   ],
   "source": [
    "clenshaw_curtis(9,(-1,1))"
   ]
  },
  {
   "cell_type": "code",
   "execution_count": 120,
   "metadata": {},
   "outputs": [
    {
     "data": {
      "text/plain": [
       "array([[-1.        , -0.95949297, -0.84125353, -0.65486073, -0.41541501,\n",
       "        -0.14231484,  0.14231484,  0.41541501,  0.65486073,  0.84125353,\n",
       "         0.95949297,  1.        ]])"
      ]
     },
     "execution_count": 120,
     "metadata": {},
     "output_type": "execute_result"
    }
   ],
   "source": [
    "clenshaw_curtis(11,(-1,1))[0]"
   ]
  },
  {
   "cell_type": "code",
   "execution_count": null,
   "metadata": {},
   "outputs": [],
   "source": []
  },
  {
   "cell_type": "code",
   "execution_count": 123,
   "metadata": {},
   "outputs": [
    {
     "name": "stdout",
     "output_type": "stream",
     "text": [
      "Nodes (x): [-1.         -0.80901699 -0.30901699  0.30901699  0.80901699  1.        ]\n",
      "Weights (w): [0.04       0.36074304 0.59925696 0.59925696 0.36074304 0.04      ] 2.0\n",
      "first moment 7.632783294297951e-17\n",
      "second moment 0.6666666666666667\n"
     ]
    },
    {
     "name": "stderr",
     "output_type": "stream",
     "text": [
      "<>:193: SyntaxWarning: assertion is always true, perhaps remove parentheses?\n",
      "<>:193: SyntaxWarning: assertion is always true, perhaps remove parentheses?\n",
      "/var/folders/rp/0g_84zc94fb0x5yys8v55x7m0000gq/T/ipykernel_11590/586544347.py:193: SyntaxWarning: assertion is always true, perhaps remove parentheses?\n",
      "  assert(0,\"n requested not available\")\n"
     ]
    }
   ],
   "source": [
    "import numpy as np\n",
    "\n",
    "def clenshaw_curtis_nodes_weights(n):\n",
    "    \"\"\"\n",
    "    Compute the Clenshaw-Curtis quadrature nodes and weights on the interval [-1, 1].\n",
    "    \n",
    "    Parameters:\n",
    "    n (int): The number of nodes/points.\n",
    "    \n",
    "    Returns:\n",
    "    x (ndarray): The quadrature nodes on [-1, 1].\n",
    "    w (ndarray): The corresponding weights.\n",
    "    \"\"\"\n",
    "    if (n==2):\n",
    "        w = np.array([1.,1.])\n",
    "        x = np.array([-1.,1.])\n",
    "    elif (n==4):\n",
    "        w = np.array([0.1111111111111111111, 0.8888888888888888889, 0.8888888888888888889, 0.1111111111111111111])\n",
    "        x = np.array([-1.0000000000000000000, -0.5000000000000000000, 0.5000000000000000000, 1.0000000000000000000])\n",
    "    elif (n==6):\n",
    "        w = np.array([0.040000000000000000, 0.3607430412000112162, 0.5992569587999887838, \n",
    "                      0.5992569587999887838, 0.3607430412000112162, 0.040000000000000000])\n",
    "        x = np.array([-1.0000000000000000000, -0.8090169943749474241,-0.3090169943749474241,\n",
    "                      0.3090169943749474241, 0.8090169943749474241, 1.0000000000000000000])\n",
    "    elif (n==10):\n",
    "        x = np.array([-1.0000000000000000000, -0.9396926207859083841, -0.7660444431189780352, \n",
    "                      -0.5000000000000000000, -0.1736481776669303489, 0.1736481776669303489, \n",
    "                      0.5000000000000000000, 0.7660444431189780352, 0.9396926207859083841, 1.0000000000000000000])\n",
    "        w = np.array([0.012345679012345679, 0.1165674565720371230, 0.2252843233381044081, \n",
    "                      0.3019400352733686067, 0.3438625058041441832, 0.3438625058041441832, 0.3019400352733686067, \n",
    "                      0.2252843233381044081, 0.1165674565720371230, 0.012345679012345679])\n",
    "    elif (n==16):\n",
    "        x = np.array([-1.0000000000000000000, -0.9781476007338056379, -0.9135454576426008955, \n",
    "                      -0.8090169943749474241, -0.6691306063588582138, -0.5000000000000000000, \n",
    "                      -0.3090169943749474241, -0.1045284632676534714, 0.1045284632676534714, \n",
    "                      0.3090169943749474241, 0.5000000000000000000, 0.6691306063588582138, \n",
    "                      0.8090169943749474241, 0.9135454576426008955, 0.9781476007338056379, 1.0000000000000000000])\n",
    "        w = np.array([0.00444444444444444, 0.0425147662475250899, 0.0855388402593328829, \n",
    "                      0.1229401008284936153, 0.1557331760396736918, 0.1813297813297813298, \n",
    "                      0.1992147813263885396, 0.2082841095243604063, 0.2082841095243604063, \n",
    "                      0.1992147813263885396, 0.1813297813297813298, 0.1557331760396736918, \n",
    "                      0.1229401008284936153, 0.0855388402593328829, 0.0425147662475250899, 0.00444444444444444])\n",
    "    elif (n==46):\n",
    "        x = np.array([-1.0000000000000000000, -0.9975640502598242476, -0.9902680687415703151, \n",
    "                      -0.9781476007338056379, -0.9612616959383188619, -0.9396926207859083841, \n",
    "                      -0.9135454576426008955, -0.8829475928589269420, -0.8480480961564259704, \n",
    "                      -0.8090169943749474241, -0.7660444431189780352, -0.7193398003386511394, \n",
    "                      -0.6691306063588582138, -0.6156614753256582797, -0.5591929034707468302, \n",
    "                      -0.5000000000000000000, -0.4383711467890774175, -0.3746065934159120354,\n",
    "                      -0.3090169943749474241, -0.2419218955996677226, -0.1736481776669303489, \n",
    "                      -0.1045284632676534714, -0.0348994967025009716, 0.0348994967025009716, \n",
    "                      0.1045284632676534714, 0.1736481776669303489, 0.2419218955996677226, \n",
    "                      0.3090169943749474241, 0.3746065934159120354, 0.4383711467890774175, \n",
    "                      0.5000000000000000000, 0.5591929034707468302, 0.6156614753256582797, \n",
    "                      0.6691306063588582138, 0.7193398003386511394, 0.7660444431189780352, \n",
    "                      0.8090169943749474241, 0.8480480961564259704, 0.8829475928589269420, \n",
    "                      0.9135454576426008955, 0.9396926207859083841, 0.9612616959383188619, \n",
    "                      0.9781476007338056379, 0.9902680687415703151, 0.9975640502598242476, 1.0000000000000000000])\n",
    "        w = np.array([0.0004938271604938, 0.0047546857890784185, 0.0097563827049905178, \n",
    "                      0.0144952225041985499, 0.0192546570295108462, 0.02387001749850450440, 0.0284007921430443066, 0.0327714822180152092, 0.0369982356967542011, \n",
    "                      0.04103290105630688662, 0.04487682754253924529, \n",
    "                      0.04849486346395686785, 0.0518824678405191346, \n",
    "                      0.05501256882062859726, 0.05787852950023088415, \n",
    "                      0.06045933230212314279, 0.06274818815385574941, \n",
    "                      0.06472922113844488516, 0.06639660207503392583, \n",
    "                      0.06773917098341607432, 0.06875272509457971451, \n",
    "                      0.06943062355009335223, 0.06977067573368115926, \n",
    "                      0.06977067573368115926, 0.06943062355009335223, \n",
    "                      0.06875272509457971451, 0.06773917098341607432, \n",
    "                      0.06639660207503392583, 0.06472922113844488516, \n",
    "                      0.06274818815385574941, 0.06045933230212314279, \n",
    "                      0.05787852950023088415, 0.05501256882062859726, \n",
    "                      0.0518824678405191346, 0.04849486346395686785, \n",
    "                      0.04487682754253924529, 0.04103290105630688662, \n",
    "                      0.0369982356967542011, 0.0327714822180152092, 0.0284007921430443066, \n",
    "                      0.02387001749850450440, 0.0192546570295108462, 0.0144952225041985499,\n",
    "                      0.0097563827049905178, 0.0047546857890784185, 0.0004938271604938])\n",
    "    elif (n==136):\n",
    "        x = np.array([-1.0000000000000000000, -0.9997292411794616822, -0.9989171113385245273, -0.9975640502598242476, \\\n",
    "                        -0.9956707906498044135, -0.9932383577419429885, -0.9902680687415703151, -0.9867615321125791908, -0.9827206467064132957, -0.9781476007338056379, \\\n",
    "                        -0.9730448705798238388, -0.9674152194628639333, -0.9612616959383188619, -0.9545876322477319459, -0.9473966425143293071, -0.9396926207859083841, \\\n",
    "                        -0.9314797389261423544, -0.9227624443554423596, -0.9135454576426008955, -0.9038337699485205346, \n",
    "                        -0.8936326403234122482, -0.8829475928589269420, -0.8717844136967623760, -0.8601491478953653614, \n",
    "                        -0.8480480961564259704, -0.8354878114129364197, -0.8224750952806622546, -0.8090169943749474241, \n",
    "                        -0.7951207964948477623, -0.7807940266766592349, \n",
    "                        -0.7660444431189780352, -0.7508800329814991816, \n",
    "                        -0.7353090080598286401, -0.7193398003386511394, \n",
    "                        -0.7029810574256617142, -0.6862416378687335857, \n",
    "                        -0.6691306063588582138, -0.6516572288214552142, \n",
    "                        -0.6338309673987102827, -0.6156614753256582797, \n",
    "                        -0.5971585917027861649, -0.5783323361679865115, \n",
    "                        -0.5591929034707468302, -0.5397506579515128752, \n",
    "                        -0.5200161279292154550, -0.5000000000000000000, \n",
    "                        -0.4797131132502462272, -0.4591664533870116521, \n",
    "                        -0.4383711467890774175, -0.4173384544818179020, \n",
    "                        -0.3960797660391568237, -0.3746065934159120354, \n",
    "                        -0.3529305647138689081, -0.3310634178849580816, \n",
    "                        -0.3090169943749474241, -0.2868032327110902531, \n",
    "                        -0.2644341620372022191, -0.2419218955996677226, \n",
    "                        -0.2192786241879033058, -0.1965166095328301256, \n",
    "                        -0.1736481776669303489, -0.1506857122494831195, \n",
    "                        -0.1276416478605945973, -0.1045284632676534714, \n",
    "                        -0.0813586746678582800, -0.0581448289104758285, \n",
    "                        -0.0348994967025009716, -0.0116352658013970146, \n",
    "                        0.0116352658013970146, 0.0348994967025009716, 0.0581448289104758285, \n",
    "                        0.0813586746678582800, 0.1045284632676534714, 0.1276416478605945973, \n",
    "                        0.1506857122494831195, 0.1736481776669303489, 0.1965166095328301256, \n",
    "                        0.2192786241879033058, 0.2419218955996677226, 0.2644341620372022191, \n",
    "                        0.2868032327110902531, 0.3090169943749474241, 0.3310634178849580816, \n",
    "                        0.3529305647138689081, 0.3746065934159120354, 0.3960797660391568237, \n",
    "                        0.4173384544818179020, 0.4383711467890774175, 0.4591664533870116521, \n",
    "                        0.4797131132502462272, 0.5000000000000000000, 0.5200161279292154550, \n",
    "                        0.5397506579515128752, 0.5591929034707468302, 0.5783323361679865115, \n",
    "                        0.5971585917027861649, 0.6156614753256582797, 0.6338309673987102827, \n",
    "                        0.6516572288214552142, 0.6691306063588582138, 0.6862416378687335857, \n",
    "                        0.7029810574256617142, 0.7193398003386511394, 0.7353090080598286401, \n",
    "                        0.7508800329814991816, 0.7660444431189780352, 0.7807940266766592349, \n",
    "                        0.7951207964948477623, 0.8090169943749474241, 0.8224750952806622546, \n",
    "                        0.8354878114129364197, 0.8480480961564259704, 0.8601491478953653614, \n",
    "                        0.8717844136967623760, 0.8829475928589269420, 0.8936326403234122482, \n",
    "                        0.9038337699485205346, 0.9135454576426008955, 0.9227624443554423596, \n",
    "                        0.9314797389261423544, 0.9396926207859083841, 0.9473966425143293071, \n",
    "                        0.9545876322477319459, 0.9612616959383188619, 0.9674152194628639333, \n",
    "                        0.9730448705798238388, 0.9781476007338056379, 0.9827206467064132957, \n",
    "                        0.9867615321125791908, 0.9902680687415703151, 0.9932383577419429885, \n",
    "                        0.9956707906498044135, 0.9975640502598242476, 0.9989171113385245273, \n",
    "                        0.9997292411794616822, 1.0000000000000000000])\n",
    "        w = np.array([0.000054869684499, 0.0005286800539908704, 0.0010871804166080944, \n",
    "0.0016210975701206600, 0.0021643391532665494, 0.0027007561013478631, \n",
    "0.0032393015561725079, 0.0037736104197446093, 0.0043076936068851456, \n",
    "0.00483805618822186627, 0.00536689273308081741, \n",
    "0.0058919391640078709, 0.0064145236399494419, 0.0069330238643208527, \n",
    "0.00744828865730395608, 0.00795907392167663124, \n",
    "0.00846593665833488656, 0.00896787552491690206, \n",
    "0.00946525773351409888, 0.00995724809980724067, \n",
    "0.01044408443396448044, 0.01092505124231669536, \n",
    "0.01140029504273052796, 0.01186919029535050709, \n",
    "0.01233181753248174606, 0.01278762132636649877, \n",
    "0.01323663374205052526, 0.01367835577717007393, \n",
    "0.01411278358479737923, 0.01453946489076511523, \n",
    "0.01495836920385627255, 0.01536908395666757876, \n",
    "0.01577155903036743800, 0.01616541638974587437, \n",
    "0.01655059171879569130, 0.01692673764598937172, \n",
    "0.01729377994195404204, 0.01765139897321041374, \n",
    "0.01799951403271256463, 0.01833783099214583420, \n",
    "0.01866626546179690006, 0.01898454710226399312, \n",
    "0.01929259014256165367, 0.01959014670612527331, \n",
    "0.01987713155462743733, 0.02015331824606116231, \n",
    "0.02041862367902544574, 0.02067284204706478682, \n",
    "0.02091589373811729748, 0.02114759296003759507, \n",
    "0.02136786473411220777, 0.02157654279986561408, \n",
    "0.02177355778052189948, 0.02195876257317761349, \n",
    "0.02213209422139451857, 0.02229342449105084213, \n",
    "0.02244269753366252376, 0.02257980376236809884, \n",
    "0.02270469500843178640, 0.02281728016398652534, \n",
    "0.02291751920753302616, 0.02300533938434943894, \n",
    "0.02308070919215370688, 0.02314357413765470934, \n",
    "0.02319391152086915981, 0.02323168504618429918, \n",
    "0.02325688101489593204, 0.02326948128889774332, \n",
    "0.02326948128889774332, 0.02325688101489593204, \n",
    "0.02323168504618429918, 0.02319391152086915981, \n",
    "0.02314357413765470934, 0.02308070919215370688, \n",
    "0.02300533938434943894, 0.02291751920753302616, \n",
    "0.02281728016398652534, 0.02270469500843178640, \n",
    "0.02257980376236809884, 0.02244269753366252376, \n",
    "0.02229342449105084213, 0.02213209422139451857, \n",
    "0.02195876257317761349, 0.02177355778052189948, \n",
    "0.02157654279986561408, 0.02136786473411220777, \n",
    "0.02114759296003759507, 0.02091589373811729748, \n",
    "0.02067284204706478682, 0.02041862367902544574, \n",
    "0.02015331824606116231, 0.01987713155462743733, \n",
    "0.01959014670612527331, 0.01929259014256165367, \n",
    "0.01898454710226399312, 0.01866626546179690006, \n",
    "0.01833783099214583420, 0.01799951403271256463, \n",
    "0.01765139897321041374, 0.01729377994195404204, \n",
    "0.01692673764598937172, 0.01655059171879569130, \n",
    "0.01616541638974587437, 0.01577155903036743800, \n",
    "0.01536908395666757876, 0.01495836920385627255, \n",
    "0.01453946489076511523, 0.01411278358479737923, \n",
    "0.01367835577717007393, 0.01323663374205052526, \n",
    "0.01278762132636649877, 0.01233181753248174606, \n",
    "0.01186919029535050709, 0.01140029504273052796, \n",
    "0.01092505124231669536, 0.01044408443396448044, \n",
    "0.00995724809980724067, 0.00946525773351409888, \n",
    "0.00896787552491690206, 0.00846593665833488656, \n",
    "0.00795907392167663124, 0.00744828865730395608, \n",
    "0.0069330238643208527, 0.0064145236399494419, 0.0058919391640078709, \n",
    "0.00536689273308081741, 0.00483805618822186627, \n",
    "0.0043076936068851456, 0.0037736104197446093, 0.0032393015561725079, \n",
    "0.0027007561013478631, 0.0021643391532665494, 0.0016210975701206600, \n",
    "0.0010871804166080944, 0.0005286800539908704, 0.000054869684499])\n",
    "    else:\n",
    "        assert(0,\"n requested not available\")\n",
    "    return x, w\n",
    "\n",
    "def clenshaw_curtis_nodes_weights2(n):\n",
    "    x, w= clenshaw_curtis(n-1,(-1,1))\n",
    "    return x, w\n",
    "    \n",
    "    \n",
    "    \n",
    "# Example: Compute Clenshaw-Curtis quadrature rule for n=6\n",
    "n = 6\n",
    "nodes, weights = clenshaw_curtis_nodes_weights(n)\n",
    "\n",
    "print(\"Nodes (x):\", nodes)\n",
    "print(\"Weights (w):\", weights, sum(weights))\n",
    "print(\"first moment\", np.sum(weights*nodes))\n",
    "print(\"second moment\", np.sum(weights*nodes**2))"
   ]
  },
  {
   "cell_type": "code",
   "execution_count": 125,
   "metadata": {},
   "outputs": [
    {
     "data": {
      "text/plain": [
       "(array([[-1.,  1.]]), array([1., 1.]))"
      ]
     },
     "execution_count": 125,
     "metadata": {},
     "output_type": "execute_result"
    }
   ],
   "source": [
    "clenshaw_curtis_nodes_weights2(2)\n"
   ]
  },
  {
   "cell_type": "code",
   "execution_count": 127,
   "metadata": {},
   "outputs": [
    {
     "data": {
      "text/plain": [
       "(array([-1.,  1.]), array([1., 1.]))"
      ]
     },
     "execution_count": 127,
     "metadata": {},
     "output_type": "execute_result"
    }
   ],
   "source": [
    "clenshaw_curtis_nodes_weights(2)"
   ]
  },
  {
   "cell_type": "code",
   "execution_count": 129,
   "metadata": {},
   "outputs": [],
   "source": [
    "# for i in range(50):\n",
    "# #     if i+1 in [0,2,4,8,16,32,64]:\n",
    "#     print(clenshaw_curtis_nodes_weights(i+1)[0], i+1 )\n",
    "\n",
    "\n",
    "# # xt, wt = clenshaw_curtis(1, (-1,1))\n",
    "# # xt"
   ]
  },
  {
   "cell_type": "code",
   "execution_count": 131,
   "metadata": {},
   "outputs": [
    {
     "data": {
      "text/plain": [
       "array([-1.,  1.])"
      ]
     },
     "execution_count": 131,
     "metadata": {},
     "output_type": "execute_result"
    }
   ],
   "source": [
    "clenshaw_curtis_nodes_weights(2)[0]"
   ]
  },
  {
   "cell_type": "code",
   "execution_count": 133,
   "metadata": {},
   "outputs": [],
   "source": [
    "def check_nested(vals, nn):\n",
    "    n_list = []\n",
    "    for ix in range(vals.size,nn):\n",
    "        check = True\n",
    "        xs = clenshaw_curtis_nodes_weights2(ix)[0][0]\n",
    "        for it in range(vals.size):\n",
    "            if vals[it] not in xs:\n",
    "                check = False\n",
    "            if 0.0 in xs and check == True:\n",
    "#                 print('0 in set', ix)\n",
    "                check = False\n",
    "        if check == True:\n",
    "            n_list.append(ix)\n",
    "#             print(vals, 'vals')\n",
    "#             print(xs, 'xs')\n",
    "    return np.array(n_list)\n",
    "            \n",
    "    \n",
    "    \n",
    "    \n",
    "    "
   ]
  },
  {
   "cell_type": "code",
   "execution_count": 135,
   "metadata": {},
   "outputs": [],
   "source": [
    "nestedvals = check_nested(clenshaw_curtis_nodes_weights2(4)[0][0], 500)"
   ]
  },
  {
   "cell_type": "code",
   "execution_count": 136,
   "metadata": {
    "scrolled": true
   },
   "outputs": [
    {
     "data": {
      "text/plain": [
       "array([  4,  10,  16,  22,  28,  31,  34,  46,  58,  61,  70,  82,  94,\n",
       "       100, 106, 112, 118, 121, 124, 130, 136, 148, 154, 160, 172, 178,\n",
       "       184, 187, 196, 199, 202, 208, 220, 226, 232, 241, 244, 256, 262,\n",
       "       274, 280, 292, 304, 310, 322, 328, 334, 340, 352, 355, 358, 370,\n",
       "       373, 376, 382, 388, 397, 400, 406, 415, 418, 424, 430, 436, 439,\n",
       "       448, 454, 466, 472, 478, 481, 484, 490, 496])"
      ]
     },
     "execution_count": 136,
     "metadata": {},
     "output_type": "execute_result"
    }
   ],
   "source": [
    "nestedvals"
   ]
  },
  {
   "cell_type": "code",
   "execution_count": 139,
   "metadata": {},
   "outputs": [
    {
     "data": {
      "text/plain": [
       "1.0"
      ]
     },
     "execution_count": 139,
     "metadata": {},
     "output_type": "execute_result"
    }
   ],
   "source": [
    "1.0"
   ]
  },
  {
   "cell_type": "code",
   "execution_count": 141,
   "metadata": {},
   "outputs": [
    {
     "data": {
      "text/plain": [
       "array([[-1.        , -0.93969262, -0.76604444, -0.5       , -0.17364818,\n",
       "         0.17364818,  0.5       ,  0.76604444,  0.93969262,  1.        ]])"
      ]
     },
     "execution_count": 141,
     "metadata": {},
     "output_type": "execute_result"
    }
   ],
   "source": [
    "clenshaw_curtis_nodes_weights2(10)[0]"
   ]
  },
  {
   "cell_type": "code",
   "execution_count": 143,
   "metadata": {},
   "outputs": [
    {
     "data": {
      "text/plain": [
       "array([[-1.        , -0.9781476 , -0.91354546, -0.80901699, -0.66913061,\n",
       "        -0.5       , -0.30901699, -0.10452846,  0.10452846,  0.30901699,\n",
       "         0.5       ,  0.66913061,  0.80901699,  0.91354546,  0.9781476 ,\n",
       "         1.        ]])"
      ]
     },
     "execution_count": 143,
     "metadata": {},
     "output_type": "execute_result"
    }
   ],
   "source": [
    "clenshaw_curtis_nodes_weights2(16)[0]\n",
    "\n"
   ]
  },
  {
   "cell_type": "code",
   "execution_count": 145,
   "metadata": {},
   "outputs": [
    {
     "data": {
      "text/plain": [
       "array([[-1.        , -0.90096887, -0.6234898 , -0.22252093,  0.22252093,\n",
       "         0.6234898 ,  0.90096887,  1.        ]])"
      ]
     },
     "execution_count": 145,
     "metadata": {},
     "output_type": "execute_result"
    }
   ],
   "source": [
    "clenshaw_curtis_nodes_weights2(8)[0]"
   ]
  },
  {
   "cell_type": "code",
   "execution_count": 147,
   "metadata": {},
   "outputs": [
    {
     "name": "stdout",
     "output_type": "stream",
     "text": [
      "[2.08265507 1.78911232 1.71800451 1.70039511 1.6960039  1.69490681]\n",
      "5\n",
      "[[ 0.00000000e+00  0.00000000e+00  0.00000000e+00  0.00000000e+00\n",
      "   0.00000000e+00]\n",
      " [ 0.00000000e+00  0.00000000e+00  0.00000000e+00  0.00000000e+00\n",
      "   0.00000000e+00]\n",
      " [-3.40665887e+00  0.00000000e+00  0.00000000e+00  0.00000000e+00\n",
      "   0.00000000e+00]\n",
      " [-1.40631522e+01  1.69527282e+00  0.00000000e+00  0.00000000e+00\n",
      "   0.00000000e+00]\n",
      " [-5.67878466e+01  1.69459884e+00 -1.49778349e+03  0.00000000e+00\n",
      "   0.00000000e+00]\n",
      " [-2.27728014e+02  1.69454511e+00 -1.86669564e+04  1.69454060e+00\n",
      "   0.00000000e+00]\n",
      " [-9.11500001e+02  1.69454143e+00 -2.72042424e+05  1.69454116e+00\n",
      "   1.75706750e+06]]\n"
     ]
    }
   ],
   "source": [
    "h = 2.**np.arange(1,-5,-1)\n",
    "f = lambda x: np.arctan(x)*np.cosh(x)\n",
    "S = (f(1+h/2)-f(1-h/2))/h\n",
    "print(S)\n",
    "tableau = wynn_epsilon(S)\n",
    "print(tableau[:,2:])"
   ]
  },
  {
   "cell_type": "code",
   "execution_count": 149,
   "metadata": {},
   "outputs": [],
   "source": [
    "def fill_in_sequence(ns, sq, countby):\n",
    "    sequence_interpolated = interp1d(ns, sq)\n",
    "    \n",
    "    new_sequence = []\n",
    "    new_ns = []\n",
    "    count = ns[0]\n",
    "    it1 = 0\n",
    "    it2 = 0\n",
    "    while count <= ns[-1]:\n",
    "\n",
    "        if ns[it1] == count:\n",
    "            new_sequence.append(sq[it1])\n",
    "            new_ns.append(ns[it1])\n",
    "            count += countby\n",
    "            it1 += 1\n",
    "            it2 += 1\n",
    "        else:\n",
    "            new_ns.append(count)\n",
    "            new_sequence.append(sequence_interpolated(count))\n",
    "            count += countby\n",
    "            it2 += 1\n",
    "    return np.array(new_ns), np.array(new_sequence)\n",
    "        \n",
    "    \n",
    "    \n",
    "    "
   ]
  },
  {
   "cell_type": "code",
   "execution_count": 151,
   "metadata": {},
   "outputs": [
    {
     "name": "stdout",
     "output_type": "stream",
     "text": [
      "[1.         1.03125    1.03536523 1.03634179 1.03666179 1.03679039\n",
      " 1.03684989 1.03688041 1.03689734 1.03690734 1.03691355 1.03691757\n",
      " 1.03692026 1.03692212 1.03692344 1.03692439 1.0369251  1.03692563\n",
      " 1.03692603 1.03692634 1.03692659 1.03692678 1.03692694 1.03692706\n",
      " 1.03692716 1.03692725 1.03692732 1.03692738 1.03692743]\n",
      "28\n",
      "[0.         0.         0.         1.03598934 1.03664564 1.03681775\n",
      " 1.0368768  1.03690112 1.03691254 1.03691846 1.03692176 1.03692372\n",
      " 1.03692494 1.03692574 1.03692627 1.03692664 1.0369269  1.03692709\n",
      " 1.03692723 1.03692733 1.03692741 1.03692747 1.03692752 1.03692756\n",
      " 1.03692759 1.03692762 1.03692764 1.03692765 1.03692767 1.03692768]\n",
      "[0.         0.         0.         0.         0.         1.03684298\n",
      " 1.03689335 1.03691149 1.03691915 1.0369228  1.03692471 1.03692579\n",
      " 1.03692643 1.03692683 1.03692709 1.03692726 1.03692738 1.03692747\n",
      " 1.03692753 1.03692758 1.03692761 1.03692764 1.03692766 1.03692768\n",
      " 1.03692769 1.0369277  1.03692771 1.03692772 1.03692772 1.03692773]\n"
     ]
    },
    {
     "data": {
      "image/png": "[encoded data removed]",
      "text/plain": [
       "<Figure size 640x480 with 1 Axes>"
      ]
     },
     "metadata": {},
     "output_type": "display_data"
    }
   ],
   "source": [
    "def wynn_epsilon(S):\n",
    "    n = S.size\n",
    "    width = n-1\n",
    "    print(width)\n",
    "    tableau = np.zeros((n + 1, width + 2))\n",
    "    tableau[:,0] = 0\n",
    "    tableau[1:,1] = S.copy() \n",
    "    for w in range(2,width + 2):\n",
    "        for r in range(w,n+1):\n",
    "            #print(r,w)\n",
    "            tableau[r,w] = tableau[r-1,w-2] + 1/(tableau[r,w-1] - tableau[r-1,w-1])\n",
    "    return tableau\n",
    "\n",
    "n = 30\n",
    "print(np.cumsum(np.arange(1,n,dtype=\"float\")**-5))\n",
    "tableau = (wynn_epsilon(np.cumsum(np.arange(1,n,dtype=\"float\")**-5)))\n",
    "plt.plot(np.abs(1.0369277551433699263-tableau[:,-1][tableau[:,-1]>0]),\"o\")\n",
    "plt.semilogy(np.abs(1.0369277551433699263-tableau[:,1]))\n",
    "print(tableau[:,3])\n",
    "print(tableau[:,5])\n",
    "\n",
    "\n",
    "\n",
    "def wynnepsilon(sn, r):\n",
    "    \"\"\"Perform Wynn Epsilon Convergence Algorithm\"\"\"\n",
    "    r = int(r)\n",
    "    n = 2 * r + 1\n",
    "    e = np.zeros(shape=(n + 1, n + 1))\n",
    "\n",
    "    for i in range(1, n + 1):\n",
    "        e[i, 1] = sn[i - 1]\n",
    "\n",
    "    for i in range(3, n + 2):\n",
    "        for j in range(3, i + 1):\n",
    "            e[i - 1, j - 1] = e[i - 2, j - 3] + 1 / (e[i - 1, j - 2] - e[i - 2, j - 2])\n",
    "#             print(1/np.abs((e[i - 1, j - 2] - e[i - 2, j - 2])))\n",
    "\n",
    "    er = e[:, 1:n + 1:2]\n",
    "    return er\n",
    "\n",
    "\n",
    "\n",
    "def use_wynn_2(sn):\n",
    "    n = sn.size\n",
    "    er = wynnepsilon(sn, np.floor((n - 1) / 2))\n",
    "    return er\n",
    "    \n",
    "    \n",
    "    \n",
    "    \n",
    "    \n",
    "\n",
    "\n",
    "\n"
   ]
  },
  {
   "cell_type": "code",
   "execution_count": null,
   "metadata": {},
   "outputs": [],
   "source": []
  },
  {
   "cell_type": "code",
   "execution_count": 153,
   "metadata": {},
   "outputs": [
    {
     "data": {
      "text/plain": [
       "(array([[0.]]), array([2.]))"
      ]
     },
     "execution_count": 153,
     "metadata": {},
     "output_type": "execute_result"
    }
   ],
   "source": [
    "clenshaw_curtis_nodes_weights2(1)"
   ]
  },
  {
   "cell_type": "code",
   "execution_count": 154,
   "metadata": {},
   "outputs": [],
   "source": [
    "# def wynn_epsilon(S):\n",
    "#     n = S.size\n",
    "#     width = n-1\n",
    "#     print(width)\n",
    "#     tableau = np.zeros((n + 1, width + 2))\n",
    "#     tableau[:,0] = 0\n",
    "#     tableau[1:,1] = S.copy() \n",
    "#     for w in range(2,width + 2):\n",
    "#         for r in range(w,n+1):\n",
    "#             #print(r,w)\n",
    "#             if abs(tableau[r,w-1] - tableau[r-1,w-1]) <=1e-10:\n",
    "#                 tableau[r,w] = 10**18\n",
    "#             else:\n",
    "#                 tableau[r,w] = tableau[r-1,w-2] + 1/(tableau[r,w-1] - tableau[r-1,w-1])\n",
    "#     return tableau\n",
    "\n",
    "\n",
    "\n",
    "# def wynnepsilon(sn, r):\n",
    "#     \"\"\"Perform Wynn Epsilon Convergence Algorithm\"\"\"\n",
    "#     r = int(r)\n",
    "#     n = 2 * r + 1\n",
    "#     e = np.zeros(shape=(n + 1, n + 1))\n",
    "\n",
    "#     for i in range(1, n + 1):\n",
    "#         e[i, 1] = sn[i - 1]\n",
    "\n",
    "#     for i in range(3, n + 2):\n",
    "#         for j in range(3, i + 1):\n",
    "#             e[i - 1, j - 1] = e[i - 2, j - 3] + 1 / (e[i - 1, j - 2] - e[i - 2, j - 2])\n",
    "# #             print(1/np.abs((e[i - 1, j - 2] - e[i - 2, j - 2])))\n",
    "\n",
    "#     er = e[:, 1:n + 1:2]\n",
    "#     return er\n",
    "\n",
    "\n",
    "\n",
    "# def use_wynn_2(sn):\n",
    "#     n = sn.size\n",
    "#     er = wynnepsilon(sn, np.floor((n - 1) / 2))\n",
    "#     return er\n",
    "    \n",
    "    \n",
    "    \n",
    "    \n",
    "    \n",
    "\n",
    "\n",
    "\n",
    "\n",
    "# n = 30\n",
    "# print(np.cumsum(np.arange(1,n,dtype=\"float\")**-5))\n",
    "# tableau = (wynn_epsilon(np.cumsum(np.arange(1,n,dtype=\"float\")**-5)))\n",
    "# plt.plot(np.abs(1.0369277551433699263-tableau[:,-1][tableau[:,-1]>0]),\"o\")\n",
    "# plt.semilogy(np.abs(1.0369277551433699263-tableau[:,1]))\n",
    "# print(tableau[:,3])\n",
    "# print(tableau[:,5])"
   ]
  },
  {
   "cell_type": "code",
   "execution_count": 155,
   "metadata": {},
   "outputs": [
    {
     "data": {
      "text/plain": [
       "array([[-1.        , -0.93969262, -0.76604444, -0.5       , -0.17364818,\n",
       "         0.17364818,  0.5       ,  0.76604444,  0.93969262,  1.        ]])"
      ]
     },
     "execution_count": 155,
     "metadata": {},
     "output_type": "execute_result"
    }
   ],
   "source": [
    "\n",
    "clenshaw_curtis_nodes_weights2(10)[0]"
   ]
  },
  {
   "cell_type": "code",
   "execution_count": 156,
   "metadata": {},
   "outputs": [
    {
     "data": {
      "text/plain": [
       "array([[-1.        , -0.9781476 , -0.91354546, -0.80901699, -0.66913061,\n",
       "        -0.5       , -0.30901699, -0.10452846,  0.10452846,  0.30901699,\n",
       "         0.5       ,  0.66913061,  0.80901699,  0.91354546,  0.9781476 ,\n",
       "         1.        ]])"
      ]
     },
     "execution_count": 156,
     "metadata": {},
     "output_type": "execute_result"
    }
   ],
   "source": [
    "clenshaw_curtis_nodes_weights2(16)[0]"
   ]
  },
  {
   "cell_type": "code",
   "execution_count": 157,
   "metadata": {},
   "outputs": [],
   "source": [
    "def two_point_we(p1,p2):\n",
    "    return 1/(p2-p1)"
   ]
  },
  {
   "cell_type": "code",
   "execution_count": 158,
   "metadata": {},
   "outputs": [
    {
     "name": "stdout",
     "output_type": "stream",
     "text": [
      "[0.         1.25643617 1.2588292  1.25892075 1.25892413] sols\n",
      "4\n",
      "[[ 0.00000000e+00  0.00000000e+00]\n",
      " [ 0.00000000e+00  0.00000000e+00]\n",
      " [ 0.00000000e+00  0.00000000e+00]\n",
      " [ 0.00000000e+00  0.00000000e+00]\n",
      " [ 1.14525525e+04  0.00000000e+00]\n",
      " [-7.58067139e+06  1.25892426e+00]]\n",
      "2\n",
      "[[0.00000000e+00 0.00000000e+00 0.00000000e+00 0.00000000e+00]\n",
      " [0.00000000e+00 1.25882920e+00 0.00000000e+00 0.00000000e+00]\n",
      " [0.00000000e+00 1.25892075e+00 1.09231906e+04 0.00000000e+00]\n",
      " [0.00000000e+00 1.25892413e+00 2.95832949e+05 1.25892426e+00]] 2pt\n",
      "1\n",
      "0.0\n",
      "3\n",
      "0.0\n",
      "5\n",
      "1.2589242561904757\n"
     ]
    },
    {
     "ename": "ValueError",
     "evalue": "x and y must have same first dimension, but have shapes (0,) and (1,)",
     "output_type": "error",
     "traceback": [
      "\u001b[0;31m---------------------------------------------------------------------------\u001b[0m",
      "\u001b[0;31mValueError\u001b[0m                                Traceback (most recent call last)",
      "Cell \u001b[0;32mIn[158], line 40\u001b[0m\n\u001b[1;32m     38\u001b[0m plt\u001b[38;5;241m.\u001b[39msemilogy(ns[\u001b[38;5;241m4\u001b[39m:],np\u001b[38;5;241m.\u001b[39mabs(true_ans\u001b[38;5;241m-\u001b[39mtableau[\u001b[38;5;241m5\u001b[39m:,\u001b[38;5;241m5\u001b[39m]),\u001b[38;5;124m\"\u001b[39m\u001b[38;5;124mv-\u001b[39m\u001b[38;5;124m\"\u001b[39m, label \u001b[38;5;241m=\u001b[39m \u001b[38;5;124m'\u001b[39m\u001b[38;5;124msecond column\u001b[39m\u001b[38;5;124m'\u001b[39m)\n\u001b[1;32m     39\u001b[0m \u001b[38;5;66;03m# plt.semilogy(ns[6:],np.abs(true_ans-tableau[7:,7]),\"r+-\", label = 'last column')\u001b[39;00m\n\u001b[0;32m---> 40\u001b[0m plt\u001b[38;5;241m.\u001b[39msemilogy(ns[\u001b[38;5;241m5\u001b[39m:],np\u001b[38;5;241m.\u001b[39mabs(true_ans\u001b[38;5;241m-\u001b[39mtwo_pt[\u001b[38;5;241m3\u001b[39m:,\u001b[38;5;241m3\u001b[39m]),\u001b[38;5;124m\"\u001b[39m\u001b[38;5;124mrx-\u001b[39m\u001b[38;5;124m\"\u001b[39m, label \u001b[38;5;241m=\u001b[39m \u001b[38;5;124m'\u001b[39m\u001b[38;5;124mthree point\u001b[39m\u001b[38;5;124m'\u001b[39m)\n\u001b[1;32m     42\u001b[0m plt\u001b[38;5;241m.\u001b[39msemilogy(processed_ns, np\u001b[38;5;241m.\u001b[39mabs(true_ans\u001b[38;5;241m-\u001b[39mprocessed),\u001b[38;5;124m\"\u001b[39m\u001b[38;5;124mrs-\u001b[39m\u001b[38;5;124m\"\u001b[39m, label \u001b[38;5;241m=\u001b[39m \u001b[38;5;124m'\u001b[39m\u001b[38;5;124mprocessed\u001b[39m\u001b[38;5;124m'\u001b[39m)\n\u001b[1;32m     44\u001b[0m \u001b[38;5;66;03m# plt.semilogy(ns[0:], np.abs(true_ans-my_accelerated[1:,-1]), '--x', label = 'my accelerated')\u001b[39;00m\n",
      "File \u001b[0;32m/opt/anaconda3/lib/python3.12/site-packages/matplotlib/pyplot.py:3729\u001b[0m, in \u001b[0;36msemilogy\u001b[0;34m(*args, **kwargs)\u001b[0m\n\u001b[1;32m   3727\u001b[0m \u001b[38;5;129m@_copy_docstring_and_deprecators\u001b[39m(Axes\u001b[38;5;241m.\u001b[39msemilogy)\n\u001b[1;32m   3728\u001b[0m \u001b[38;5;28;01mdef\u001b[39;00m \u001b[38;5;21msemilogy\u001b[39m(\u001b[38;5;241m*\u001b[39margs, \u001b[38;5;241m*\u001b[39m\u001b[38;5;241m*\u001b[39mkwargs) \u001b[38;5;241m-\u001b[39m\u001b[38;5;241m>\u001b[39m \u001b[38;5;28mlist\u001b[39m[Line2D]:\n\u001b[0;32m-> 3729\u001b[0m     \u001b[38;5;28;01mreturn\u001b[39;00m gca()\u001b[38;5;241m.\u001b[39msemilogy(\u001b[38;5;241m*\u001b[39margs, \u001b[38;5;241m*\u001b[39m\u001b[38;5;241m*\u001b[39mkwargs)\n",
      "File \u001b[0;32m/opt/anaconda3/lib/python3.12/site-packages/matplotlib/axes/_axes.py:1959\u001b[0m, in \u001b[0;36mAxes.semilogy\u001b[0;34m(self, *args, **kwargs)\u001b[0m\n\u001b[1;32m   1955\u001b[0m d \u001b[38;5;241m=\u001b[39m {k: v \u001b[38;5;28;01mfor\u001b[39;00m k, v \u001b[38;5;129;01min\u001b[39;00m kwargs\u001b[38;5;241m.\u001b[39mitems()\n\u001b[1;32m   1956\u001b[0m      \u001b[38;5;28;01mif\u001b[39;00m k \u001b[38;5;129;01min\u001b[39;00m [\u001b[38;5;124m'\u001b[39m\u001b[38;5;124mbase\u001b[39m\u001b[38;5;124m'\u001b[39m, \u001b[38;5;124m'\u001b[39m\u001b[38;5;124msubs\u001b[39m\u001b[38;5;124m'\u001b[39m, \u001b[38;5;124m'\u001b[39m\u001b[38;5;124mnonpositive\u001b[39m\u001b[38;5;124m'\u001b[39m,\n\u001b[1;32m   1957\u001b[0m               \u001b[38;5;124m'\u001b[39m\u001b[38;5;124mbasey\u001b[39m\u001b[38;5;124m'\u001b[39m, \u001b[38;5;124m'\u001b[39m\u001b[38;5;124msubsy\u001b[39m\u001b[38;5;124m'\u001b[39m, \u001b[38;5;124m'\u001b[39m\u001b[38;5;124mnonposy\u001b[39m\u001b[38;5;124m'\u001b[39m]}\n\u001b[1;32m   1958\u001b[0m \u001b[38;5;28mself\u001b[39m\u001b[38;5;241m.\u001b[39mset_yscale(\u001b[38;5;124m'\u001b[39m\u001b[38;5;124mlog\u001b[39m\u001b[38;5;124m'\u001b[39m, \u001b[38;5;241m*\u001b[39m\u001b[38;5;241m*\u001b[39md)\n\u001b[0;32m-> 1959\u001b[0m \u001b[38;5;28;01mreturn\u001b[39;00m \u001b[38;5;28mself\u001b[39m\u001b[38;5;241m.\u001b[39mplot(\n\u001b[1;32m   1960\u001b[0m     \u001b[38;5;241m*\u001b[39margs, \u001b[38;5;241m*\u001b[39m\u001b[38;5;241m*\u001b[39m{k: v \u001b[38;5;28;01mfor\u001b[39;00m k, v \u001b[38;5;129;01min\u001b[39;00m kwargs\u001b[38;5;241m.\u001b[39mitems() \u001b[38;5;28;01mif\u001b[39;00m k \u001b[38;5;129;01mnot\u001b[39;00m \u001b[38;5;129;01min\u001b[39;00m d})\n",
      "File \u001b[0;32m/opt/anaconda3/lib/python3.12/site-packages/matplotlib/axes/_axes.py:1724\u001b[0m, in \u001b[0;36mAxes.plot\u001b[0;34m(self, scalex, scaley, data, *args, **kwargs)\u001b[0m\n\u001b[1;32m   1481\u001b[0m \u001b[38;5;250m\u001b[39m\u001b[38;5;124;03m\"\"\"\u001b[39;00m\n\u001b[1;32m   1482\u001b[0m \u001b[38;5;124;03mPlot y versus x as lines and/or markers.\u001b[39;00m\n\u001b[1;32m   1483\u001b[0m \n\u001b[0;32m   (...)\u001b[0m\n\u001b[1;32m   1721\u001b[0m \u001b[38;5;124;03m(``'green'``) or hex strings (``'#008000'``).\u001b[39;00m\n\u001b[1;32m   1722\u001b[0m \u001b[38;5;124;03m\"\"\"\u001b[39;00m\n\u001b[1;32m   1723\u001b[0m kwargs \u001b[38;5;241m=\u001b[39m cbook\u001b[38;5;241m.\u001b[39mnormalize_kwargs(kwargs, mlines\u001b[38;5;241m.\u001b[39mLine2D)\n\u001b[0;32m-> 1724\u001b[0m lines \u001b[38;5;241m=\u001b[39m [\u001b[38;5;241m*\u001b[39m\u001b[38;5;28mself\u001b[39m\u001b[38;5;241m.\u001b[39m_get_lines(\u001b[38;5;28mself\u001b[39m, \u001b[38;5;241m*\u001b[39margs, data\u001b[38;5;241m=\u001b[39mdata, \u001b[38;5;241m*\u001b[39m\u001b[38;5;241m*\u001b[39mkwargs)]\n\u001b[1;32m   1725\u001b[0m \u001b[38;5;28;01mfor\u001b[39;00m line \u001b[38;5;129;01min\u001b[39;00m lines:\n\u001b[1;32m   1726\u001b[0m     \u001b[38;5;28mself\u001b[39m\u001b[38;5;241m.\u001b[39madd_line(line)\n",
      "File \u001b[0;32m/opt/anaconda3/lib/python3.12/site-packages/matplotlib/axes/_base.py:303\u001b[0m, in \u001b[0;36m_process_plot_var_args.__call__\u001b[0;34m(self, axes, data, *args, **kwargs)\u001b[0m\n\u001b[1;32m    301\u001b[0m     this \u001b[38;5;241m+\u001b[39m\u001b[38;5;241m=\u001b[39m args[\u001b[38;5;241m0\u001b[39m],\n\u001b[1;32m    302\u001b[0m     args \u001b[38;5;241m=\u001b[39m args[\u001b[38;5;241m1\u001b[39m:]\n\u001b[0;32m--> 303\u001b[0m \u001b[38;5;28;01myield from\u001b[39;00m \u001b[38;5;28mself\u001b[39m\u001b[38;5;241m.\u001b[39m_plot_args(\n\u001b[1;32m    304\u001b[0m     axes, this, kwargs, ambiguous_fmt_datakey\u001b[38;5;241m=\u001b[39mambiguous_fmt_datakey)\n",
      "File \u001b[0;32m/opt/anaconda3/lib/python3.12/site-packages/matplotlib/axes/_base.py:499\u001b[0m, in \u001b[0;36m_process_plot_var_args._plot_args\u001b[0;34m(self, axes, tup, kwargs, return_kwargs, ambiguous_fmt_datakey)\u001b[0m\n\u001b[1;32m    496\u001b[0m     axes\u001b[38;5;241m.\u001b[39myaxis\u001b[38;5;241m.\u001b[39mupdate_units(y)\n\u001b[1;32m    498\u001b[0m \u001b[38;5;28;01mif\u001b[39;00m x\u001b[38;5;241m.\u001b[39mshape[\u001b[38;5;241m0\u001b[39m] \u001b[38;5;241m!=\u001b[39m y\u001b[38;5;241m.\u001b[39mshape[\u001b[38;5;241m0\u001b[39m]:\n\u001b[0;32m--> 499\u001b[0m     \u001b[38;5;28;01mraise\u001b[39;00m \u001b[38;5;167;01mValueError\u001b[39;00m(\u001b[38;5;124mf\u001b[39m\u001b[38;5;124m\"\u001b[39m\u001b[38;5;124mx and y must have same first dimension, but \u001b[39m\u001b[38;5;124m\"\u001b[39m\n\u001b[1;32m    500\u001b[0m                      \u001b[38;5;124mf\u001b[39m\u001b[38;5;124m\"\u001b[39m\u001b[38;5;124mhave shapes \u001b[39m\u001b[38;5;132;01m{\u001b[39;00mx\u001b[38;5;241m.\u001b[39mshape\u001b[38;5;132;01m}\u001b[39;00m\u001b[38;5;124m and \u001b[39m\u001b[38;5;132;01m{\u001b[39;00my\u001b[38;5;241m.\u001b[39mshape\u001b[38;5;132;01m}\u001b[39;00m\u001b[38;5;124m\"\u001b[39m)\n\u001b[1;32m    501\u001b[0m \u001b[38;5;28;01mif\u001b[39;00m x\u001b[38;5;241m.\u001b[39mndim \u001b[38;5;241m>\u001b[39m \u001b[38;5;241m2\u001b[39m \u001b[38;5;129;01mor\u001b[39;00m y\u001b[38;5;241m.\u001b[39mndim \u001b[38;5;241m>\u001b[39m \u001b[38;5;241m2\u001b[39m:\n\u001b[1;32m    502\u001b[0m     \u001b[38;5;28;01mraise\u001b[39;00m \u001b[38;5;167;01mValueError\u001b[39;00m(\u001b[38;5;124mf\u001b[39m\u001b[38;5;124m\"\u001b[39m\u001b[38;5;124mx and y can be no greater than 2D, but have \u001b[39m\u001b[38;5;124m\"\u001b[39m\n\u001b[1;32m    503\u001b[0m                      \u001b[38;5;124mf\u001b[39m\u001b[38;5;124m\"\u001b[39m\u001b[38;5;124mshapes \u001b[39m\u001b[38;5;132;01m{\u001b[39;00mx\u001b[38;5;241m.\u001b[39mshape\u001b[38;5;132;01m}\u001b[39;00m\u001b[38;5;124m and \u001b[39m\u001b[38;5;132;01m{\u001b[39;00my\u001b[38;5;241m.\u001b[39mshape\u001b[38;5;132;01m}\u001b[39;00m\u001b[38;5;124m\"\u001b[39m)\n",
      "\u001b[0;31mValueError\u001b[0m: x and y must have same first dimension, but have shapes (0,) and (1,)"
     ]
    },
    {
     "data": {
      "image/png": "[encoded data removed]",
      "text/plain": [
       "<Figure size 640x480 with 1 Axes>"
      ]
     },
     "metadata": {},
     "output_type": "display_data"
    }
   ],
   "source": [
    "#test integration\n",
    "def cc_int(f,n):\n",
    "    x,w = clenshaw_curtis_nodes_weights2(n)\n",
    "    return np.sum(f(x)*w)\n",
    "\n",
    "f = lambda x: np.sqrt(1-x**2)*np.exp(-x**2)\n",
    "# f = lambda x: 10*scipy.special.jv(2, x*100)*np.exp(-x**2)\n",
    "\n",
    "ns = np.array([2,6,16,46,136])\n",
    "# ns = nestedvals[0:7]\n",
    "# ns = np.array([8, 8+14, 8+14+14, 8+14*3, 8+14*4, 8+14*5, 8+14*6])\n",
    "# ns = np.array([4,10,16,22, 28, 34, 40])\n",
    "# ns = np.array([7,10,13,16,19,22,25])\n",
    "# ns = np.array([8, 22, 36, 48,64,128,256 ])\n",
    "\n",
    "sols = np.zeros(ns.size)\n",
    "for i,n in enumerate(ns):\n",
    "    sols[i] = cc_int(f,n)\n",
    "print(sols,'sols')\n",
    "true_ans = 1.2589242565517815809\n",
    "# true_ans = 0.20563131124135862477\n",
    "tableau = wynn_epsilon(sols)\n",
    "print(tableau[:,4:8])\n",
    "my_accelerated = use_wynn_2(sols)\n",
    "two_pt = wynn_epsilon(sols[-3:])\n",
    "print(two_pt, '2pt')\n",
    "# print('###',my_accelerated, \"####\")\n",
    "# print(tableau[:,1:8])\n",
    "#for i in range(sols.size):\n",
    "    #print(\"%.10f\" % (1.6951187376381606303-sols[i]))\n",
    "    #print(\"%.10f\" % (1.6951187376381606303-tableau[i,-1]))\n",
    "\n",
    "processed_ns, processed = wynn_process(tableau, ns)\n",
    "    \n",
    "    \n",
    "plt.semilogy(ns,np.abs(sols-true_ans),\"o-\", label = 'w/o acceleration')\n",
    "plt.semilogy(ns[2:],np.abs(true_ans-tableau[3:,3]),\"^-\", label = 'first column')\n",
    "plt.semilogy(ns[4:],np.abs(true_ans-tableau[5:,5]),\"v-\", label = 'second column')\n",
    "# plt.semilogy(ns[6:],np.abs(true_ans-tableau[7:,7]),\"r+-\", label = 'last column')\n",
    "plt.semilogy(ns[5:],np.abs(true_ans-two_pt[3:,3]),\"rx-\", label = 'three point')\n",
    "\n",
    "plt.semilogy(processed_ns, np.abs(true_ans-processed),\"rs-\", label = 'processed')\n",
    "\n",
    "# plt.semilogy(ns[0:], np.abs(true_ans-my_accelerated[1:,-1]), '--x', label = 'my accelerated')\n",
    "plt.legend()\n",
    "# print(np.log10(np.abs(tableau[-2:,-1]-true_ans)))\n",
    "# print(np.abs(my_accelerated-true_ans))\n",
    "# print(np.abs(sols-true_ans))\n",
    "print(tableau[3:,3], 'first')\n",
    "plt.savefig(\"wynn_epsilon_test.pdf\")"
   ]
  },
  {
   "cell_type": "code",
   "execution_count": 192,
   "metadata": {},
   "outputs": [
    {
     "data": {
      "text/plain": [
       "1.258877542127784"
      ]
     },
     "execution_count": 192,
     "metadata": {},
     "output_type": "execute_result"
    }
   ],
   "source": [
    "cc_int(f, 20)"
   ]
  },
  {
   "cell_type": "code",
   "execution_count": 194,
   "metadata": {},
   "outputs": [
    {
     "name": "stdout",
     "output_type": "stream",
     "text": [
      "[2.08265507 1.78911232 1.71800451 1.70039511 1.6960039  1.69490681]\n",
      "5\n",
      "[[ 0.00000000e+00  0.00000000e+00  0.00000000e+00  0.00000000e+00\n",
      "   0.00000000e+00]\n",
      " [ 0.00000000e+00  0.00000000e+00  0.00000000e+00  0.00000000e+00\n",
      "   0.00000000e+00]\n",
      " [-3.40665887e+00  0.00000000e+00  0.00000000e+00  0.00000000e+00\n",
      "   0.00000000e+00]\n",
      " [-1.40631522e+01  1.69527282e+00  0.00000000e+00  0.00000000e+00\n",
      "   0.00000000e+00]\n",
      " [-5.67878466e+01  1.69459884e+00 -1.49778349e+03  0.00000000e+00\n",
      "   0.00000000e+00]\n",
      " [-2.27728014e+02  1.69454511e+00 -1.86669564e+04  1.69454060e+00\n",
      "   0.00000000e+00]\n",
      " [-9.11500001e+02  1.69454143e+00 -2.72042424e+05  1.69454116e+00\n",
      "   1.75706750e+06]]\n"
     ]
    }
   ],
   "source": [
    "h = 2.**np.arange(1,-5,-1)\n",
    "f = lambda x: np.arctan(x)*np.cosh(x)\n",
    "S = (f(1+h/2)-f(1-h/2))/h\n",
    "print(S)\n",
    "tableau = wynn_epsilon(S)\n",
    "print(tableau[:,2:])"
   ]
  },
  {
   "cell_type": "code",
   "execution_count": 196,
   "metadata": {},
   "outputs": [
    {
     "name": "stdout",
     "output_type": "stream",
     "text": [
      "[[ 0.00000000e+00  0.00000000e+00  0.00000000e+00  0.00000000e+00\n",
      "   0.00000000e+00  0.00000000e+00  0.00000000e+00]\n",
      " [ 0.00000000e+00  2.08265507e+00  0.00000000e+00  0.00000000e+00\n",
      "   0.00000000e+00  0.00000000e+00  0.00000000e+00]\n",
      " [ 0.00000000e+00  1.78911232e+00 -3.40665887e+00  0.00000000e+00\n",
      "   0.00000000e+00  0.00000000e+00  0.00000000e+00]\n",
      " [ 0.00000000e+00  1.71800451e+00 -1.40631522e+01  1.69527282e+00\n",
      "   0.00000000e+00  0.00000000e+00  0.00000000e+00]\n",
      " [ 0.00000000e+00  1.70039511e+00 -5.67878466e+01  1.69459884e+00\n",
      "  -1.49778349e+03  0.00000000e+00  0.00000000e+00]\n",
      " [ 0.00000000e+00  1.69600390e+00 -2.27728014e+02  1.69454511e+00\n",
      "  -1.86669564e+04  1.69454060e+00  0.00000000e+00]\n",
      " [ 0.00000000e+00  1.69490681e+00 -9.11500001e+02  1.69454143e+00\n",
      "  -2.72042424e+05  1.69454116e+00  1.75706750e+06]]\n"
     ]
    }
   ],
   "source": [
    "print(tableau)"
   ]
  },
  {
   "cell_type": "code",
   "execution_count": 198,
   "metadata": {},
   "outputs": [
    {
     "data": {
      "text/plain": [
       "array([0.        , 1.25643617, 1.2588292 , 1.25892075, 1.25892413])"
      ]
     },
     "execution_count": 198,
     "metadata": {},
     "output_type": "execute_result"
    }
   ],
   "source": [
    "sols"
   ]
  },
  {
   "cell_type": "code",
   "execution_count": 200,
   "metadata": {},
   "outputs": [],
   "source": [
    "def pi_approx(N):\n",
    "    res = 0\n",
    "    for i in range(N):\n",
    "        res += (-3)**(-i)/(2*i + 1)\n",
    "    return res * math.sqrt(12)"
   ]
  },
  {
   "cell_type": "code",
   "execution_count": 202,
   "metadata": {},
   "outputs": [
    {
     "data": {
      "text/plain": [
       "3.1415905109380797"
      ]
     },
     "execution_count": 202,
     "metadata": {},
     "output_type": "execute_result"
    }
   ],
   "source": [
    "pi_approx(10)"
   ]
  },
  {
   "cell_type": "code",
   "execution_count": 204,
   "metadata": {
    "scrolled": true
   },
   "outputs": [
    {
     "name": "stdout",
     "output_type": "stream",
     "text": [
      "[0.         3.46410162 3.07920144 3.14260475 3.14130879 3.14159977\n",
      " 3.1415933  3.14159272 3.14159266]\n"
     ]
    }
   ],
   "source": [
    "\n",
    "# n_table = np.array([0,2,3,5,6,7,9,11,12,13,15,17,19,22,24,28,30,35,50])\n",
    "n_table = np.array([0,1,2,5,6,9, 11, 13, 15])\n",
    "# n_table = np.array([0,2,4,6,8,10,12,14,16,18,20])\n",
    "pi_table = np.zeros(len(n_table))\n",
    "for i in range(0,len(n_table)):\n",
    "    pi_table[i] = pi_approx(n_table[i])\n",
    "print(pi_table)"
   ]
  },
  {
   "cell_type": "code",
   "execution_count": 206,
   "metadata": {},
   "outputs": [
    {
     "data": {
      "text/plain": [
       "3.141568715941784"
      ]
     },
     "execution_count": 206,
     "metadata": {},
     "output_type": "execute_result"
    }
   ],
   "source": [
    "pi_approx(8)"
   ]
  },
  {
   "cell_type": "code",
   "execution_count": 208,
   "metadata": {},
   "outputs": [],
   "source": [
    "aa = fill_in_sequence(n_table, pi_table, 1)"
   ]
  },
  {
   "cell_type": "code",
   "execution_count": 210,
   "metadata": {},
   "outputs": [
    {
     "data": {
      "text/plain": [
       "[<matplotlib.lines.Line2D at 0x13dde2f90>]"
      ]
     },
     "execution_count": 210,
     "metadata": {},
     "output_type": "execute_result"
    },
    {
     "data": {
      "image/png": "[encoded data removed]",
      "text/plain": [
       "<Figure size 640x480 with 1 Axes>"
      ]
     },
     "metadata": {},
     "output_type": "display_data"
    }
   ],
   "source": [
    "\n",
    "plt.plot(n_table, pi_table, '-o', mfc = 'none')\n",
    "plt.plot(aa[0], aa[1])"
   ]
  },
  {
   "cell_type": "code",
   "execution_count": 212,
   "metadata": {},
   "outputs": [
    {
     "data": {
      "text/plain": [
       "array([-3.14159265e+00,  3.22508962e-01, -6.23912179e-02,  1.01209207e-03,\n",
       "       -2.83868127e-04,  7.12022171e-06,  6.50913288e-07,  6.14305868e-08,\n",
       "        5.93192073e-09])"
      ]
     },
     "execution_count": 212,
     "metadata": {},
     "output_type": "execute_result"
    }
   ],
   "source": [
    "pi_table-math.pi"
   ]
  },
  {
   "cell_type": "markdown",
   "metadata": {},
   "source": [
    "## "
   ]
  },
  {
   "cell_type": "code",
   "execution_count": 215,
   "metadata": {},
   "outputs": [
    {
     "data": {
      "text/plain": [
       "6"
      ]
     },
     "execution_count": 215,
     "metadata": {},
     "output_type": "execute_result"
    }
   ],
   "source": [
    "11//2 + 1"
   ]
  },
  {
   "cell_type": "code",
   "execution_count": 217,
   "metadata": {},
   "outputs": [],
   "source": [
    "# ns, processed_wepi = wynn_oddcolumn_getter(we_pi, np.linspace(1, 11, 10))"
   ]
  },
  {
   "cell_type": "code",
   "execution_count": 219,
   "metadata": {},
   "outputs": [
    {
     "name": "stdout",
     "output_type": "stream",
     "text": [
      "[  2   6  16  46 136]\n"
     ]
    }
   ],
   "source": [
    "print(ns)"
   ]
  },
  {
   "cell_type": "code",
   "execution_count": 221,
   "metadata": {},
   "outputs": [
    {
     "ename": "ValueError",
     "evalue": "x and y must have same first dimension, but have shapes (10,) and (9,)",
     "output_type": "error",
     "traceback": [
      "\u001b[0;31m---------------------------------------------------------------------------\u001b[0m",
      "\u001b[0;31mValueError\u001b[0m                                Traceback (most recent call last)",
      "Cell \u001b[0;32mIn[221], line 1\u001b[0m\n\u001b[0;32m----> 1\u001b[0m plt\u001b[38;5;241m.\u001b[39msemilogy(np\u001b[38;5;241m.\u001b[39mlinspace(\u001b[38;5;241m1\u001b[39m,\u001b[38;5;241m11\u001b[39m,\u001b[38;5;241m10\u001b[39m), np\u001b[38;5;241m.\u001b[39mabs(pi_table\u001b[38;5;241m-\u001b[39mmath\u001b[38;5;241m.\u001b[39mpi), \u001b[38;5;124m'\u001b[39m\u001b[38;5;124m-o\u001b[39m\u001b[38;5;124m'\u001b[39m, label \u001b[38;5;241m=\u001b[39m \u001b[38;5;124m'\u001b[39m\u001b[38;5;124mseries\u001b[39m\u001b[38;5;124m'\u001b[39m)\n\u001b[1;32m      2\u001b[0m \u001b[38;5;66;03m# plt.semilogy(np.linspace(1,11,10), np.abs(pi_table-math.pi), '-o', label = 'series')\u001b[39;00m\n\u001b[1;32m      3\u001b[0m plt\u001b[38;5;241m.\u001b[39msemilogy(np\u001b[38;5;241m.\u001b[39marray([\u001b[38;5;241m11\u001b[39m]), np\u001b[38;5;241m.\u001b[39mabs(math\u001b[38;5;241m.\u001b[39mpi\u001b[38;5;241m-\u001b[39mwynn_epsilon(pi_table)[\u001b[38;5;241m9\u001b[39m:,\u001b[38;5;241m9\u001b[39m][\u001b[38;5;241m-\u001b[39m\u001b[38;5;241m1\u001b[39m]), \u001b[38;5;124m'\u001b[39m\u001b[38;5;124mx\u001b[39m\u001b[38;5;124m'\u001b[39m, label \u001b[38;5;241m=\u001b[39m \u001b[38;5;124m'\u001b[39m\u001b[38;5;124mwynn\u001b[39m\u001b[38;5;124m'\u001b[39m)\n",
      "File \u001b[0;32m/opt/anaconda3/lib/python3.12/site-packages/matplotlib/pyplot.py:3729\u001b[0m, in \u001b[0;36msemilogy\u001b[0;34m(*args, **kwargs)\u001b[0m\n\u001b[1;32m   3727\u001b[0m \u001b[38;5;129m@_copy_docstring_and_deprecators\u001b[39m(Axes\u001b[38;5;241m.\u001b[39msemilogy)\n\u001b[1;32m   3728\u001b[0m \u001b[38;5;28;01mdef\u001b[39;00m \u001b[38;5;21msemilogy\u001b[39m(\u001b[38;5;241m*\u001b[39margs, \u001b[38;5;241m*\u001b[39m\u001b[38;5;241m*\u001b[39mkwargs) \u001b[38;5;241m-\u001b[39m\u001b[38;5;241m>\u001b[39m \u001b[38;5;28mlist\u001b[39m[Line2D]:\n\u001b[0;32m-> 3729\u001b[0m     \u001b[38;5;28;01mreturn\u001b[39;00m gca()\u001b[38;5;241m.\u001b[39msemilogy(\u001b[38;5;241m*\u001b[39margs, \u001b[38;5;241m*\u001b[39m\u001b[38;5;241m*\u001b[39mkwargs)\n",
      "File \u001b[0;32m/opt/anaconda3/lib/python3.12/site-packages/matplotlib/axes/_axes.py:1959\u001b[0m, in \u001b[0;36mAxes.semilogy\u001b[0;34m(self, *args, **kwargs)\u001b[0m\n\u001b[1;32m   1955\u001b[0m d \u001b[38;5;241m=\u001b[39m {k: v \u001b[38;5;28;01mfor\u001b[39;00m k, v \u001b[38;5;129;01min\u001b[39;00m kwargs\u001b[38;5;241m.\u001b[39mitems()\n\u001b[1;32m   1956\u001b[0m      \u001b[38;5;28;01mif\u001b[39;00m k \u001b[38;5;129;01min\u001b[39;00m [\u001b[38;5;124m'\u001b[39m\u001b[38;5;124mbase\u001b[39m\u001b[38;5;124m'\u001b[39m, \u001b[38;5;124m'\u001b[39m\u001b[38;5;124msubs\u001b[39m\u001b[38;5;124m'\u001b[39m, \u001b[38;5;124m'\u001b[39m\u001b[38;5;124mnonpositive\u001b[39m\u001b[38;5;124m'\u001b[39m,\n\u001b[1;32m   1957\u001b[0m               \u001b[38;5;124m'\u001b[39m\u001b[38;5;124mbasey\u001b[39m\u001b[38;5;124m'\u001b[39m, \u001b[38;5;124m'\u001b[39m\u001b[38;5;124msubsy\u001b[39m\u001b[38;5;124m'\u001b[39m, \u001b[38;5;124m'\u001b[39m\u001b[38;5;124mnonposy\u001b[39m\u001b[38;5;124m'\u001b[39m]}\n\u001b[1;32m   1958\u001b[0m \u001b[38;5;28mself\u001b[39m\u001b[38;5;241m.\u001b[39mset_yscale(\u001b[38;5;124m'\u001b[39m\u001b[38;5;124mlog\u001b[39m\u001b[38;5;124m'\u001b[39m, \u001b[38;5;241m*\u001b[39m\u001b[38;5;241m*\u001b[39md)\n\u001b[0;32m-> 1959\u001b[0m \u001b[38;5;28;01mreturn\u001b[39;00m \u001b[38;5;28mself\u001b[39m\u001b[38;5;241m.\u001b[39mplot(\n\u001b[1;32m   1960\u001b[0m     \u001b[38;5;241m*\u001b[39margs, \u001b[38;5;241m*\u001b[39m\u001b[38;5;241m*\u001b[39m{k: v \u001b[38;5;28;01mfor\u001b[39;00m k, v \u001b[38;5;129;01min\u001b[39;00m kwargs\u001b[38;5;241m.\u001b[39mitems() \u001b[38;5;28;01mif\u001b[39;00m k \u001b[38;5;129;01mnot\u001b[39;00m \u001b[38;5;129;01min\u001b[39;00m d})\n",
      "File \u001b[0;32m/opt/anaconda3/lib/python3.12/site-packages/matplotlib/axes/_axes.py:1724\u001b[0m, in \u001b[0;36mAxes.plot\u001b[0;34m(self, scalex, scaley, data, *args, **kwargs)\u001b[0m\n\u001b[1;32m   1481\u001b[0m \u001b[38;5;250m\u001b[39m\u001b[38;5;124;03m\"\"\"\u001b[39;00m\n\u001b[1;32m   1482\u001b[0m \u001b[38;5;124;03mPlot y versus x as lines and/or markers.\u001b[39;00m\n\u001b[1;32m   1483\u001b[0m \n\u001b[0;32m   (...)\u001b[0m\n\u001b[1;32m   1721\u001b[0m \u001b[38;5;124;03m(``'green'``) or hex strings (``'#008000'``).\u001b[39;00m\n\u001b[1;32m   1722\u001b[0m \u001b[38;5;124;03m\"\"\"\u001b[39;00m\n\u001b[1;32m   1723\u001b[0m kwargs \u001b[38;5;241m=\u001b[39m cbook\u001b[38;5;241m.\u001b[39mnormalize_kwargs(kwargs, mlines\u001b[38;5;241m.\u001b[39mLine2D)\n\u001b[0;32m-> 1724\u001b[0m lines \u001b[38;5;241m=\u001b[39m [\u001b[38;5;241m*\u001b[39m\u001b[38;5;28mself\u001b[39m\u001b[38;5;241m.\u001b[39m_get_lines(\u001b[38;5;28mself\u001b[39m, \u001b[38;5;241m*\u001b[39margs, data\u001b[38;5;241m=\u001b[39mdata, \u001b[38;5;241m*\u001b[39m\u001b[38;5;241m*\u001b[39mkwargs)]\n\u001b[1;32m   1725\u001b[0m \u001b[38;5;28;01mfor\u001b[39;00m line \u001b[38;5;129;01min\u001b[39;00m lines:\n\u001b[1;32m   1726\u001b[0m     \u001b[38;5;28mself\u001b[39m\u001b[38;5;241m.\u001b[39madd_line(line)\n",
      "File \u001b[0;32m/opt/anaconda3/lib/python3.12/site-packages/matplotlib/axes/_base.py:303\u001b[0m, in \u001b[0;36m_process_plot_var_args.__call__\u001b[0;34m(self, axes, data, *args, **kwargs)\u001b[0m\n\u001b[1;32m    301\u001b[0m     this \u001b[38;5;241m+\u001b[39m\u001b[38;5;241m=\u001b[39m args[\u001b[38;5;241m0\u001b[39m],\n\u001b[1;32m    302\u001b[0m     args \u001b[38;5;241m=\u001b[39m args[\u001b[38;5;241m1\u001b[39m:]\n\u001b[0;32m--> 303\u001b[0m \u001b[38;5;28;01myield from\u001b[39;00m \u001b[38;5;28mself\u001b[39m\u001b[38;5;241m.\u001b[39m_plot_args(\n\u001b[1;32m    304\u001b[0m     axes, this, kwargs, ambiguous_fmt_datakey\u001b[38;5;241m=\u001b[39mambiguous_fmt_datakey)\n",
      "File \u001b[0;32m/opt/anaconda3/lib/python3.12/site-packages/matplotlib/axes/_base.py:499\u001b[0m, in \u001b[0;36m_process_plot_var_args._plot_args\u001b[0;34m(self, axes, tup, kwargs, return_kwargs, ambiguous_fmt_datakey)\u001b[0m\n\u001b[1;32m    496\u001b[0m     axes\u001b[38;5;241m.\u001b[39myaxis\u001b[38;5;241m.\u001b[39mupdate_units(y)\n\u001b[1;32m    498\u001b[0m \u001b[38;5;28;01mif\u001b[39;00m x\u001b[38;5;241m.\u001b[39mshape[\u001b[38;5;241m0\u001b[39m] \u001b[38;5;241m!=\u001b[39m y\u001b[38;5;241m.\u001b[39mshape[\u001b[38;5;241m0\u001b[39m]:\n\u001b[0;32m--> 499\u001b[0m     \u001b[38;5;28;01mraise\u001b[39;00m \u001b[38;5;167;01mValueError\u001b[39;00m(\u001b[38;5;124mf\u001b[39m\u001b[38;5;124m\"\u001b[39m\u001b[38;5;124mx and y must have same first dimension, but \u001b[39m\u001b[38;5;124m\"\u001b[39m\n\u001b[1;32m    500\u001b[0m                      \u001b[38;5;124mf\u001b[39m\u001b[38;5;124m\"\u001b[39m\u001b[38;5;124mhave shapes \u001b[39m\u001b[38;5;132;01m{\u001b[39;00mx\u001b[38;5;241m.\u001b[39mshape\u001b[38;5;132;01m}\u001b[39;00m\u001b[38;5;124m and \u001b[39m\u001b[38;5;132;01m{\u001b[39;00my\u001b[38;5;241m.\u001b[39mshape\u001b[38;5;132;01m}\u001b[39;00m\u001b[38;5;124m\"\u001b[39m)\n\u001b[1;32m    501\u001b[0m \u001b[38;5;28;01mif\u001b[39;00m x\u001b[38;5;241m.\u001b[39mndim \u001b[38;5;241m>\u001b[39m \u001b[38;5;241m2\u001b[39m \u001b[38;5;129;01mor\u001b[39;00m y\u001b[38;5;241m.\u001b[39mndim \u001b[38;5;241m>\u001b[39m \u001b[38;5;241m2\u001b[39m:\n\u001b[1;32m    502\u001b[0m     \u001b[38;5;28;01mraise\u001b[39;00m \u001b[38;5;167;01mValueError\u001b[39;00m(\u001b[38;5;124mf\u001b[39m\u001b[38;5;124m\"\u001b[39m\u001b[38;5;124mx and y can be no greater than 2D, but have \u001b[39m\u001b[38;5;124m\"\u001b[39m\n\u001b[1;32m    503\u001b[0m                      \u001b[38;5;124mf\u001b[39m\u001b[38;5;124m\"\u001b[39m\u001b[38;5;124mshapes \u001b[39m\u001b[38;5;132;01m{\u001b[39;00mx\u001b[38;5;241m.\u001b[39mshape\u001b[38;5;132;01m}\u001b[39;00m\u001b[38;5;124m and \u001b[39m\u001b[38;5;132;01m{\u001b[39;00my\u001b[38;5;241m.\u001b[39mshape\u001b[38;5;132;01m}\u001b[39;00m\u001b[38;5;124m\"\u001b[39m)\n",
      "\u001b[0;31mValueError\u001b[0m: x and y must have same first dimension, but have shapes (10,) and (9,)"
     ]
    },
    {
     "data": {
      "image/png": "[encoded data removed]",
      "text/plain": [
       "<Figure size 640x480 with 1 Axes>"
      ]
     },
     "metadata": {},
     "output_type": "display_data"
    }
   ],
   "source": [
    "\n",
    "plt.semilogy(np.linspace(1,11,10), np.abs(pi_table-math.pi), '-o', label = 'series')\n",
    "# plt.semilogy(np.linspace(1,11,10), np.abs(pi_table-math.pi), '-o', label = 'series')\n",
    "plt.semilogy(np.array([11]), np.abs(math.pi-wynn_epsilon(pi_table)[9:,9][-1]), 'x', label = 'wynn')\n",
    "plt.semilogy(ns, np.abs(math.pi-processed_wepi), '-^', label = 'wynn')\n",
    "plt.legend()"
   ]
  },
  {
   "cell_type": "code",
   "execution_count": null,
   "metadata": {},
   "outputs": [],
   "source": [
    "wynn_epsilon(pi_table)[5:,5]"
   ]
  },
  {
   "cell_type": "code",
   "execution_count": 224,
   "metadata": {},
   "outputs": [],
   "source": [
    "def wynn_oddcolumn_getter(we_results, series_ns):\n",
    "    ncolumns = we_results[0].size\n",
    "    if ncolumns%2 ==0:\n",
    "        n_odd = ncolumns//2\n",
    "    else:\n",
    "        n_odd = ncolumns//2+1\n",
    "    res = np.zeros(n_odd)\n",
    "    used_ns = np.zeros(n_odd)\n",
    "    ik = 0\n",
    "    for i in range(series_ns.size+1):\n",
    "        if i %2 != 0:\n",
    "            used_ns[ik] = series_ns[i]\n",
    "            res[ik] = we_results[i:, i][-1]\n",
    "            ik += 1\n",
    "    return used_ns[:-1], res[:-1]\n",
    "            \n",
    "    \n",
    "    "
   ]
  },
  {
   "cell_type": "markdown",
   "metadata": {},
   "source": [
    "Putting it all together"
   ]
  },
  {
   "cell_type": "code",
   "execution_count": null,
   "metadata": {},
   "outputs": [],
   "source": []
  },
  {
   "cell_type": "code",
   "execution_count": 228,
   "metadata": {},
   "outputs": [
    {
     "name": "stdout",
     "output_type": "stream",
     "text": [
      "[3.07920144 3.13785289 3.14130879 3.14156872 3.14159051]\n",
      "(array([ 2,  3,  4,  5,  6,  7,  8,  9, 10]), array([3.07920144, 3.10852716, 3.13785289, 3.13958084, 3.14130879,\n",
      "       3.14143875, 3.14156872, 3.14157961, 3.14159051]))\n"
     ]
    }
   ],
   "source": [
    "n_table = np.array([2,4,6,8,10])\n",
    "n_table_gaps = np.array([2,4,6,8,10])\n",
    "# n_table = np.array([0,2,4,6,8,10,12,14,16,18,20])\n",
    "pi_table = np.zeros(len(n_table))\n",
    "for i in range(0,len(n_table)):\n",
    "    pi_table[i] = pi_approx(n_table[i])\n",
    "    \n",
    "pi_table_2 = np.zeros(len(n_table_gaps))\n",
    "for i in range(0,len(n_table_gaps)):\n",
    "    pi_table_2[i] = pi_approx(n_table_gaps[i])\n",
    "print(pi_table)\n",
    "dense_pi_table  = fill_in_sequence(n_table_gaps, pi_table_2, 1)\n",
    "print(dense_pi_table)"
   ]
  },
  {
   "cell_type": "code",
   "execution_count": 230,
   "metadata": {},
   "outputs": [
    {
     "name": "stdout",
     "output_type": "stream",
     "text": [
      "8\n",
      "4\n"
     ]
    },
    {
     "name": "stderr",
     "output_type": "stream",
     "text": [
      "/var/folders/rp/0g_84zc94fb0x5yys8v55x7m0000gq/T/ipykernel_11590/2504944246.py:11: RuntimeWarning: divide by zero encountered in scalar divide\n",
      "  tableau[r,w] = tableau[r-1,w-2] + 1/(tableau[r,w-1] - tableau[r-1,w-1])\n"
     ]
    }
   ],
   "source": [
    "dense_pi_table  = fill_in_sequence(n_table_gaps, pi_table_2, 1)\n",
    "# dense_pi_table[1][3] = pi_table[3]\n",
    "# dense_pi_table[1][5] = pi_table[5]\n",
    "\n",
    "wynn_dense_pi = wynn_epsilon(dense_pi_table[1])\n",
    "wynn_sparse_pi = wynn_epsilon(pi_table)"
   ]
  },
  {
   "cell_type": "code",
   "execution_count": 232,
   "metadata": {},
   "outputs": [],
   "source": [
    "# dense_pi_table[1]-pi_table"
   ]
  },
  {
   "cell_type": "code",
   "execution_count": 234,
   "metadata": {},
   "outputs": [
    {
     "data": {
      "text/plain": [
       "array([0.00000000e+00, 3.14159051e+00, 4.58820908e+04, 3.14159251e+00,\n",
       "       3.81294083e+05, 3.14159259e+00])"
      ]
     },
     "execution_count": 234,
     "metadata": {},
     "output_type": "execute_result"
    }
   ],
   "source": [
    "wynn_sparse_pi[5]"
   ]
  },
  {
   "cell_type": "code",
   "execution_count": 256,
   "metadata": {},
   "outputs": [
    {
     "name": "stdout",
     "output_type": "stream",
     "text": [
      "8\n"
     ]
    },
    {
     "name": "stderr",
     "output_type": "stream",
     "text": [
      "/var/folders/rp/0g_84zc94fb0x5yys8v55x7m0000gq/T/ipykernel_11590/2504944246.py:11: RuntimeWarning: divide by zero encountered in scalar divide\n",
      "  tableau[r,w] = tableau[r-1,w-2] + 1/(tableau[r,w-1] - tableau[r-1,w-1])\n"
     ]
    },
    {
     "data": {
      "image/png": "[encoded data removed]",
      "text/plain": [
       "<Figure size 640x480 with 1 Axes>"
      ]
     },
     "metadata": {},
     "output_type": "display_data"
    }
   ],
   "source": [
    "plt.plot(n_table, pi_table, '-o', mfc = 'none')\n",
    "plt.plot(dense_pi_table[0], dense_pi_table[1], '-x')\n",
    "interp_p1 = interp1d(n_table, pi_table)\n",
    "plt.plot(dense_pi_table[0], interp_p1(dense_pi_table[0]))\n",
    "dense_interpolated = interp_p1(dense_pi_table[0])\n",
    "wynn_dense_pi_interpolated = wynn_epsilon(dense_interpolated)"
   ]
  },
  {
   "cell_type": "code",
   "execution_count": 262,
   "metadata": {},
   "outputs": [
    {
     "data": {
      "text/plain": [
       "array([3.07920144, 3.10852716, 3.13785289, 3.13958084, 3.14130879,\n",
       "       3.14143875, 3.14156872, 3.14157961, 3.14159051])"
      ]
     },
     "execution_count": 262,
     "metadata": {},
     "output_type": "execute_result"
    }
   ],
   "source": [
    "wynn_dense_pi_interpolated[1:,1]"
   ]
  },
  {
   "cell_type": "code",
   "execution_count": 238,
   "metadata": {},
   "outputs": [
    {
     "name": "stdout",
     "output_type": "stream",
     "text": [
      "1\n",
      "0.0\n",
      "3\n",
      "0.0\n",
      "5\n",
      "0.0\n",
      "7\n",
      "0.0\n",
      "9\n",
      "3.1419144293099186\n",
      "1\n",
      "0.0\n",
      "3\n",
      "0.0\n",
      "5\n",
      "3.1415925919424574\n"
     ]
    }
   ],
   "source": [
    "ns_dense, res_dense = wynn_process(wynn_dense_pi, dense_pi_table[0])\n",
    "ns_sparse, res_sparse = wynn_process(wynn_sparse_pi, n_table)"
   ]
  },
  {
   "cell_type": "code",
   "execution_count": 240,
   "metadata": {},
   "outputs": [
    {
     "data": {
      "text/plain": [
       "6.164733568070346e-08"
      ]
     },
     "execution_count": 240,
     "metadata": {},
     "output_type": "execute_result"
    }
   ],
   "source": [
    "np.min(np.abs(wynn_dense_pi-math.pi))\n",
    "np.min(np.abs(wynn_sparse_pi-math.pi))"
   ]
  },
  {
   "cell_type": "code",
   "execution_count": 282,
   "metadata": {},
   "outputs": [
    {
     "data": {
      "text/plain": [
       "<matplotlib.legend.Legend at 0x13f692d20>"
      ]
     },
     "execution_count": 282,
     "metadata": {},
     "output_type": "execute_result"
    },
    {
     "data": {
      "image/png": "[encoded data removed]",
      "text/plain": [
       "<Figure size 640x480 with 1 Axes>"
      ]
     },
     "metadata": {},
     "output_type": "display_data"
    }
   ],
   "source": [
    "plt.semilogy(n_table, np.abs(pi_table-math.pi), '-o', label = 'series')\n",
    "\n",
    "plt.semilogy(dense_pi_table[0][8:], np.abs(math.pi-wynn_dense_pi_interpolated[7:,7]), '-o', label = 'wynn pi interpolated')\n",
    "plt.semilogy(ns_sparse, np.abs(math.pi-res_sparse), '-x', label = 'wynn pi')\n",
    "plt.legend()"
   ]
  },
  {
   "cell_type": "code",
   "execution_count": null,
   "metadata": {},
   "outputs": [],
   "source": [
    "np.array([15])"
   ]
  },
  {
   "cell_type": "code",
   "execution_count": 167,
   "metadata": {},
   "outputs": [
    {
     "ename": "NameError",
     "evalue": "name 'wynn_dense_pi' is not defined",
     "output_type": "error",
     "traceback": [
      "\u001b[0;31m---------------------------------------------------------------------------\u001b[0m",
      "\u001b[0;31mNameError\u001b[0m                                 Traceback (most recent call last)",
      "Cell \u001b[0;32mIn[167], line 1\u001b[0m\n\u001b[0;32m----> 1\u001b[0m wynn_dense_pi[\u001b[38;5;241m7\u001b[39m:,\u001b[38;5;241m7\u001b[39m]\u001b[38;5;241m-\u001b[39mmath\u001b[38;5;241m.\u001b[39mpi\n",
      "\u001b[0;31mNameError\u001b[0m: name 'wynn_dense_pi' is not defined"
     ]
    }
   ],
   "source": [
    "wynn_dense_pi[7:,7]-math.pi"
   ]
  },
  {
   "cell_type": "code",
   "execution_count": null,
   "metadata": {},
   "outputs": [],
   "source": [
    "wynn_oddcolumn_getter(wynn_dense_pi, dense_pi_table[0])"
   ]
  },
  {
   "cell_type": "code",
   "execution_count": 168,
   "metadata": {},
   "outputs": [
    {
     "ename": "NameError",
     "evalue": "name 'dense_pi_table' is not defined",
     "output_type": "error",
     "traceback": [
      "\u001b[0;31m---------------------------------------------------------------------------\u001b[0m",
      "\u001b[0;31mNameError\u001b[0m                                 Traceback (most recent call last)",
      "Cell \u001b[0;32mIn[168], line 1\u001b[0m\n\u001b[0;32m----> 1\u001b[0m dense_pi_table[\u001b[38;5;241m0\u001b[39m]\n",
      "\u001b[0;31mNameError\u001b[0m: name 'dense_pi_table' is not defined"
     ]
    }
   ],
   "source": [
    "dense_pi_table[0]"
   ]
  },
  {
   "cell_type": "code",
   "execution_count": 170,
   "metadata": {},
   "outputs": [
    {
     "data": {
      "text/plain": [
       "array([ 2,  4,  6,  8, 10])"
      ]
     },
     "execution_count": 170,
     "metadata": {},
     "output_type": "execute_result"
    }
   ],
   "source": [
    "n_table"
   ]
  },
  {
   "cell_type": "code",
   "execution_count": 172,
   "metadata": {},
   "outputs": [
    {
     "ename": "NameError",
     "evalue": "name 'wynn_dense_pi' is not defined",
     "output_type": "error",
     "traceback": [
      "\u001b[0;31m---------------------------------------------------------------------------\u001b[0m",
      "\u001b[0;31mNameError\u001b[0m                                 Traceback (most recent call last)",
      "Cell \u001b[0;32mIn[172], line 1\u001b[0m\n\u001b[0;32m----> 1\u001b[0m wynn_process(wynn_dense_pi, n_table)\n",
      "\u001b[0;31mNameError\u001b[0m: name 'wynn_dense_pi' is not defined"
     ]
    }
   ],
   "source": [
    "wynn_process(wynn_dense_pi, n_table)"
   ]
  },
  {
   "cell_type": "code",
   "execution_count": 174,
   "metadata": {},
   "outputs": [],
   "source": [
    "def wynn_process(wynn, series):\n",
    "    lastcol = wynn[0].size\n",
    "    if lastcol %2 ==0:\n",
    "        lastcol -=1\n",
    "    res = []\n",
    "    new_series = []\n",
    "    it = 0\n",
    "    for ix in range(wynn[0].size):\n",
    "        if ix % 2!= 0:\n",
    "            print(ix)\n",
    "            res.append(wynn[ix:,ix][-1])\n",
    "            print(wynn[ix][-1])\n",
    "            new_series.append(series[it])\n",
    "            it += 2\n",
    "    return np.array(new_series), np.array(res)\n",
    "        "
   ]
  },
  {
   "cell_type": "code",
   "execution_count": null,
   "metadata": {},
   "outputs": [],
   "source": [
    "\n"
   ]
  },
  {
   "cell_type": "code",
   "execution_count": null,
   "metadata": {},
   "outputs": [],
   "source": []
  },
  {
   "cell_type": "code",
   "execution_count": null,
   "metadata": {},
   "outputs": [],
   "source": []
  },
  {
   "cell_type": "code",
   "execution_count": null,
   "metadata": {},
   "outputs": [],
   "source": []
  },
  {
   "cell_type": "code",
   "execution_count": null,
   "metadata": {},
   "outputs": [],
   "source": []
  },
  {
   "cell_type": "code",
   "execution_count": null,
   "metadata": {},
   "outputs": [],
   "source": []
  },
  {
   "cell_type": "code",
   "execution_count": null,
   "metadata": {},
   "outputs": [],
   "source": []
  },
  {
   "cell_type": "code",
   "execution_count": null,
   "metadata": {},
   "outputs": [],
   "source": []
  },
  {
   "cell_type": "code",
   "execution_count": null,
   "metadata": {},
   "outputs": [],
   "source": []
  }
 ],
 "metadata": {
  "kernelspec": {
   "display_name": "Python 3 (ipykernel)",
   "language": "python",
   "name": "python3"
  },
  "language_info": {
   "codemirror_mode": {
    "name": "ipython",
    "version": 3
   },
   "file_extension": ".py",
   "mimetype": "text/x-python",
   "name": "python",
   "nbconvert_exporter": "python",
   "pygments_lexer": "ipython3",
   "version": "3.12.4"
  }
 },
 "nbformat": 4,
 "nbformat_minor": 4
}
