{
 "cells": [
  {
   "cell_type": "code",
   "execution_count": 5,
   "id": "f20c88a7-cd41-49d9-8140-5399d9adf1b0",
   "metadata": {},
   "outputs": [],
   "source": [
    "import scipy.special\n",
    "import math\n",
    "import matplotlib.pyplot as plt\n",
    "import numpy as np\n",
    "from scipy.interpolate import interp1d\n",
    "from chaospy.quadrature import clenshaw_curtis"
   ]
  },
  {
   "cell_type": "code",
   "execution_count": 9,
   "id": "acec7b4c-56b6-490b-8dab-742344e7c51a",
   "metadata": {},
   "outputs": [],
   "source": [
    "def wynn_epsilon(S):\n",
    "    n = S.size\n",
    "    width = n-1\n",
    "    print(width)\n",
    "    tableau = np.zeros((n + 1, width + 2))\n",
    "    tableau[:,0] = 0\n",
    "    tableau[1:,1] = S.copy() \n",
    "    for w in range(2,width + 2):\n",
    "        for r in range(w,n+1):\n",
    "            #print(r,w)\n",
    "            tableau[r,w] = tableau[r-1,w-2] + 1/(tableau[r,w-1] - tableau[r-1,w-1])\n",
    "    return tableau\n",
    "\n",
    "# n = 30\n",
    "# print(np.cumsum(np.arange(1,n,dtype=\"float\")**-5))\n",
    "# tableau = (wynn_epsilon(np.cumsum(np.arange(1,n,dtype=\"float\")**-5)))\n",
    "# plt.plot(np.abs(1.0369277551433699263-tableau[:,-1][tableau[:,-1]>0]),\"o\")\n",
    "# plt.semilogy(np.abs(1.0369277551433699263-tableau[:,1]))\n",
    "# print(tableau[:,3])\n",
    "# print(tableau[:,5])\n"
   ]
  },
  {
   "cell_type": "code",
   "execution_count": 156,
   "id": "37b2c39f-d562-47d6-a354-a02ab62197e8",
   "metadata": {},
   "outputs": [
    {
     "name": "stdout",
     "output_type": "stream",
     "text": [
      "Accelerated sequence (nonuniform): [[ 1.          3.          6.         10.         15.        ]\n",
      " [-2.         -6.         -3.         -1.          0.        ]\n",
      " [-1.5        -2.         -0.75        0.          0.        ]\n",
      " [-1.         -0.66666667  0.          0.          0.        ]\n",
      " [ 0.          0.          0.          0.          0.        ]]\n"
     ]
    }
   ],
   "source": [
    "def wynn_epsilon_nonuniform(x, h):\n",
    "    \"\"\"\n",
    "    Apply the Wynn-Epsilon acceleration method to a nonuniform sequence.\n",
    "    \n",
    "    Parameters:\n",
    "    x (list or np.array): The input sequence to accelerate.\n",
    "    h (list or np.array): The step sizes between consecutive terms in the sequence.\n",
    "    \n",
    "    Returns:\n",
    "    np.array: The accelerated sequence after applying Wynn-Epsilon.\n",
    "    \"\"\"\n",
    "    # Convert inputs to numpy arrays for easier manipulation\n",
    "    x = np.array(x, dtype=float)\n",
    "    h = np.array(h, dtype=float)\n",
    "    N = len(x)\n",
    "    \n",
    "import numpy as np\n",
    "\n",
    "def wynn_epsilon(sequence):\n",
    "    \"\"\"\n",
    "    Apply the Wynn-Epsilon acceleration method to a sequence with uniform spacing.\n",
    "    \n",
    "    Parameters:\n",
    "    sequence (list or np.array): The input sequence to accelerate.\n",
    "    \n",
    "    Returns:\n",
    "    np.array: The accelerated sequence after applying Wynn-Epsilon.\n",
    "    \"\"\"\n",
    "    # Convert sequence to numpy array for easier manipulation\n",
    "    x = np.array(sequence, dtype=float)\n",
    "    N = len(x)\n",
    "    \n",
    "    # Initialize the accelerated sequence, starting with the original sequence\n",
    "    epsilon = np.copy(x)\n",
    "    \n",
    "    # Apply Wynn-Epsilon method recursively for the uniform case\n",
    "    for p in range(1, N):  # Iterate over levels of recursion\n",
    "        for q in range(N - p):  # Iterate over the indices in the sequence\n",
    "            # Apply the recursion: ε^{p}_{q+1} = ε^{p+1}_{q-1} + (ε^{p+1}_q - ε^p_q)^{-1}\n",
    "            epsilon[p, q] = epsilon[p + 1, q - 1] + (epsilon[p + 1, q] - epsilon[p, q]) ** (-1)\n",
    "        \n",
    "    # Return the accelerated sequence\n",
    "    return epsilon\n",
    "\n",
    "def wynn_epsilon_nonuniform(x, h):\n",
    "    \"\"\"\n",
    "    Apply the Wynn-Epsilon acceleration method to a nonuniform sequence.\n",
    "    \n",
    "    Parameters:\n",
    "    x (list or np.array): The input sequence to accelerate.\n",
    "    h (list or np.array): The step sizes between consecutive terms in the sequence.\n",
    "    \n",
    "    Returns:\n",
    "    np.array: The accelerated sequence after applying Wynn-Epsilon.\n",
    "    \"\"\"\n",
    "    # Convert inputs to numpy arrays for easier manipulation\n",
    "    x = np.array(x, dtype=float)\n",
    "    h = np.array(h, dtype=float)\n",
    "    N = len(x)\n",
    "    \n",
    "    # Initialize the table for the accelerated sequence\n",
    "    epsilon = np.zeros((N, N), dtype=float)\n",
    "    \n",
    "    # First row is just the original sequence (p=0)\n",
    "    epsilon[0, :N] = x\n",
    "    \n",
    "    # Apply Wynn-Epsilon method recursively for the nonuniform case\n",
    "    for p in range(1, N-1):  # Iterate over levels of recursion\n",
    "        for q in range(N - p):  # Iterate over the indices in the sequence\n",
    "            n = q  # The starting index in the original sequence\n",
    "            m = p + q  # The offset for the second term in the original sequence\n",
    "            \n",
    "            if m >= N:\n",
    "                break  # Prevent out-of-bound errors\n",
    "            \n",
    "            # Generalized difference accounting for nonuniform spacing\n",
    "            delta_n = (x[n+1] - x[n]) / h[n] if n+1 < N else 0\n",
    "            delta_m = (x[m+1] - x[m]) / h[m] if m+1 < N else 0\n",
    "            \n",
    "            # Apply the generalized difference in the recursion step\n",
    "            epsilon[p, q] = epsilon[p + 1, q + 1] + (delta_m - delta_n) ** (-1)\n",
    "        \n",
    "    # Return the final accelerated sequence (top-right corner of the table)\n",
    "    return epsilon\n",
    "\n",
    "\n",
    "# Example sequence with uniform spacing\n",
    "# sequence = [1, 2, 3, 4, 5]\n",
    "# accelerated_sequence = wynn_epsilon(sequence)\n",
    "# print(\"Accelerated sequence (uniform):\", accelerated_sequence)\n",
    "\n",
    "# Example sequence with nonuniform step sizes\n",
    "sequence_nonuniform = [1, 3, 6, 10, 15]  # Nonuniform increasing sequence\n",
    "steps_nonuniform = [1, 2, 3, 5]  # Nonuniform step sizes\n",
    "accelerated_sequence_nonuniform = wynn_epsilon_nonuniform(sequence_nonuniform, steps_nonuniform)\n",
    "print(\"Accelerated sequence (nonuniform):\", accelerated_sequence_nonuniform)\n",
    "\n",
    "# Example\n",
    "\n",
    "\n"
   ]
  },
  {
   "cell_type": "code",
   "execution_count": 158,
   "id": "027b26bc-34d9-4796-bcad-ed187485cfe2",
   "metadata": {},
   "outputs": [],
   "source": [
    "def pi_approx(N):\n",
    "    res = 0\n",
    "    for i in range(N):\n",
    "        res += (-3)**(-i)/(2*i + 1)\n",
    "    return res * math.sqrt(12)"
   ]
  },
  {
   "cell_type": "code",
   "execution_count": 186,
   "id": "3421690f-9fea-4c1c-bb6b-7b739d2aeb6f",
   "metadata": {},
   "outputs": [],
   "source": [
    "Ns = np.array([1,2,3,4,5])\n",
    "pi_table = []\n",
    "# hs = [100,2,1,10]\n",
    "hs = np.ones(9)\n",
    "for it in range(1, 10):\n",
    "\n",
    "    # pi_table[it] = pi_approx(Ns[it])\n",
    "    pi_table.append(pi_approx(it))\n",
    "pi_table = [pi_approx(1), pi_approx(3), pi_approx(7), pi_approx(8)]\n",
    "hs = [2, 4, 1]"
   ]
  },
  {
   "cell_type": "code",
   "execution_count": 188,
   "id": "6a390ef9-a290-4017-8f02-8bd36731d514",
   "metadata": {},
   "outputs": [
    {
     "data": {
      "text/plain": [
       "array([[ 3.22508962e-01,  1.45888180e-02,  8.16591090e-05,\n",
       "        -2.39376480e-05],\n",
       "       [ 3.51029432e+00,  2.80853068e+02,  9.46684620e+03,\n",
       "        -3.14159265e+00],\n",
       "       [ 3.35805580e+00,  2.72584346e+02, -3.14159265e+00,\n",
       "        -3.14159265e+00],\n",
       "       [-3.14159265e+00, -3.14159265e+00, -3.14159265e+00,\n",
       "        -3.14159265e+00]])"
      ]
     },
     "execution_count": 188,
     "metadata": {},
     "output_type": "execute_result"
    }
   ],
   "source": [
    "wynn_epsilon_nonuniform(pi_table, hs) - math.pi"
   ]
  },
  {
   "cell_type": "code",
   "execution_count": 190,
   "id": "d12ea7af-772c-44a4-ab00-2992fdd1d6b9",
   "metadata": {},
   "outputs": [
    {
     "data": {
      "text/plain": [
       "-2.3937648009120238e-05"
      ]
     },
     "execution_count": 190,
     "metadata": {},
     "output_type": "execute_result"
    }
   ],
   "source": [
    "pi_table[-1] - math.pi"
   ]
  },
  {
   "cell_type": "code",
   "execution_count": null,
   "id": "b5b184ad-df0f-4c0a-9ee5-2699f8c2b5f1",
   "metadata": {},
   "outputs": [],
   "source": []
  }
 ],
 "metadata": {
  "kernelspec": {
   "display_name": "Python 3 (ipykernel)",
   "language": "python",
   "name": "python3"
  },
  "language_info": {
   "codemirror_mode": {
    "name": "ipython",
    "version": 3
   },
   "file_extension": ".py",
   "mimetype": "text/x-python",
   "name": "python",
   "nbconvert_exporter": "python",
   "pygments_lexer": "ipython3",
   "version": "3.12.4"
  }
 },
 "nbformat": 4,
 "nbformat_minor": 5
}
